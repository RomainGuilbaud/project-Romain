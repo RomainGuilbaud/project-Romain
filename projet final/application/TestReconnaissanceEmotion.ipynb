{
 "cells": [
  {
   "cell_type": "code",
   "execution_count": 2,
   "metadata": {
    "collapsed": false
   },
   "outputs": [
    {
     "name": "stdout",
     "output_type": "stream",
     "text": [
      "[['absorbé;1'] ['adouci;1'] ['affermi;1'] ['aimant;1'] ['alerte;1']\n",
      " ['allégé;1'] ['amadoué;1'] ['apaisé;1'] ['apitoyé;1'] ['assouvi;1']\n",
      " ['attendri;1'] ['attentif;1'] ['bien disposé;1'] ['calme;1'] ['centré;1']\n",
      " ['comblé;1'] ['compatissant;1'] ['compréhensif;1'] ['concentré;1']\n",
      " ['concerné;1'] ['conciliant;1'] ['confiant;1'] ['confortable;1']\n",
      " ['conforté;1'] ['consolé;1'] ['consolidé;1'] ['cool;1']\n",
      " ['d’humeur amicale;1'] ['d’humeur insouciante;1'] ['dans l’indicible;1']\n",
      " ['dans l’unité;1'] ['dans la plénitude;1'] ['déchargé;1']\n",
      " ['décontracté;1'] ['décrispé;1'] ['délassé;1'] ['délesté;1'] ['délivré;1']\n",
      " ['détaché;1'] ['détendu;1'] ['déterminé;1'] ['disponible;1'] ['dispos;1']\n",
      " ['dubitatif;1'] ['égal;1'] ['empli de bienveillance;1']\n",
      " ['empli de tendresse;1'] ['empressé;1'] ['en confiance;1']\n",
      " ['en harmonie avec;1'] ['en paix;1'] ['encouragé;1'] ['épanoui;1']\n",
      " ['équilibré;1'] ['éveillé;1'] ['flegmatique;1'] ['fortifié;1'] ['gavé;1']\n",
      " ['gonflé à bloc;1'] ['impassible;1'] ['impavide;1'] ['imperturbable;1']\n",
      " ['impliqué;1'] ['incrédule;1'] ['inébranlable;1'] ['insouciant;1']\n",
      " ['inspiré;1'] ['intéressé;1'] ['léger;1'] ['libéré;1'] ['libre;1']\n",
      " ['miséricordieux;1'] ['mobilisé;1'] ['nonchalant;1'] ['nourri;1']\n",
      " ['ouvert;1'] ['paisible;1'] ['peinard;1'] ['placide;1'] ['plein;1']\n",
      " ['plein d’affection;1'] ['plein d’amour;1'] ['plein d’application;1']\n",
      " ['plein d’aplomb;1'] ['plein d’appréciation;1'] ['plein d’assurance;1']\n",
      " ['plein d’empathie;1'] ['plein d’énergie;1'] ['plein d’équanimité;1']\n",
      " ['plein d’inclination;1'] ['plein de bénignité;1'] ['plein de chaleur;1']\n",
      " ['plein de commisération;1'] ['plein de compassion;1']\n",
      " ['plein de douceur;1'] ['plein de gratitude;1'] ['plein de mansuétude;1']\n",
      " ['plein d’opiniâtreté;1'] ['plein de persévérance;1'] ['plein de pitié;1']\n",
      " ['plein de prévenance;1'] ['plein de quiétude;1'] ['plein de révérence;1']\n",
      " ['plein de sympathie;1'] ['plein de tendresse;1'] ['pondéré;1'] ['posé;1']\n",
      " ['présent;1'] ['proche;1'] ['quiet;1'] ['radouci;1'] ['raffermi;1']\n",
      " ['rafraîchi;1'] ['ragaillardi;1'] ['rassasié;1'] ['rasséréné;1']\n",
      " ['rassuré;1'] ['réchauffer le coeur;1'] ['réconforté;1']\n",
      " ['reconnaissant;1'] ['récréé;1'] ['régénéré;1'] ['regonflé;1']\n",
      " ['relâché;1'] ['relax;1'] ['relaxé;1'] ['relié;1'] ['remonté;1']\n",
      " ['renforcé;1'] ['reprendre haleine;1'] ['repu;1'] ['renforcé;1']\n",
      " ['résolu;1'] ['rester de marbre;1'] ['revigoré;1'] ['satisfait;1']\n",
      " ['sceptique;1'] ['sécurisé;1'] ['sensibilisé;1'] ['sensible;1']\n",
      " ['serein;1'] ['soulagé;1'] ['stable;1'] ['stimulé;1'] ['stoïque;1']\n",
      " ['sûr de soi;1'] ['tenir au coeur;1'] ['tranquille;1'] ['vacant;1']\n",
      " ['zen;1'] ['abasourdi;2'] ['agité;2'] ['ahuri;2'] ['assommé;2']\n",
      " ['avoir le souffle coupé;2'] ['blindé;2'] ['bluffé;2'] ['chancelant;2']\n",
      " ['choqué;2'] ['confondu;2'] ['confus;2'] ['débordé;2'] ['déboussolé;2']\n",
      " ['déconcerté;2'] ['décontenancé;2'] ['dépaysé;2'] ['dérangé;2']\n",
      " ['dérouté;2'] ['désarçonné;2'] ['désemparé;2'] ['désorienté;2']\n",
      " ['déstabilisé;2'] ['distrait;2'] ['ébahi;2'] ['éberlué;2'] ['effaré;2']\n",
      " ['égaré;2'] ['embarrassé;2'] ['embrouillé;2'] ['emmêlé;2'] ['émotionné;2']\n",
      " ['ému;2'] ['en boucher un coin;2'] ['en plein désarroi;2']\n",
      " ['en rester comme deux;2'] ['ronds;2'] ['de flan;2'] ['en suspens;2']\n",
      " ['engourdi;2'] ['épaté;2'] ['estomaqué;2'] ['étonné;2'] ['étourdi;2']\n",
      " ['figé;2'] ['foudroyé;2'] ['frappé;2'] ['frappé de stupeur;2']\n",
      " ['hébété;2'] ['hésitant;2'] ['impressionné;2'] ['incommodé;2']\n",
      " ['indécis;2'] ['interdit;2'] ['interloqué;2'] ['interpellé;2']\n",
      " ['intrigué;2'] ['irrésolu;2'] ['médusé;2'] ['ne pas savoir sur quel;2']\n",
      " ['pied danser;2'] ['pantois;2'] ['perplexe;2'] ['pétrifié;2'] ['plombé;2']\n",
      " ['pris au dépourvu;2'] ['pris de court;2'] ['prostré;2'] ['renversé;2']\n",
      " ['rester bouche bée;2'] ['retourné;2'] ['saisi;2'] ['saturé;2']\n",
      " ['scotché;2'] ['secoué;2'] ['sidéré;2'] ['soufflé;2'] ['stupéfait;2']\n",
      " ['suffoqué;2'] ['surpris;2'] ['titubant;2'] ['tomber des nues;2']\n",
      " ['touché;2'] ['troublé;2'] ['vacillant;2'] ['vide;2'] ['à la noce;3']\n",
      " ['admiratif;3'] ['allègre;3'] ['aller au coeur;3'] ['altier;3']\n",
      " ['amoureux;3'] ['amusé;3'] ['animé;3'] ['ardent;3'] ['attiré;3']\n",
      " ['aux anges;3'] ['au septième ciel;3'] ['béat;3'] ['bienheureux;3']\n",
      " ['bouillonnant;3'] ['bouleversé;3'] ['captivé;3'] ['charmé;3']\n",
      " ['comblé;3'] ['content;3'] ['curieux;3'] ['d’humeur allègre;3']\n",
      " ['d’humeur aventureuse;3'] ['d’humeur câline;3'] ['d’humeur badine;3']\n",
      " ['d’humeur enjouée;3'] ['d’humeur espiègle;3'] ['d’humeur expansive;3']\n",
      " ['d’humeur exubérante;3'] ['d’humeur folâtre;3']\n",
      " ['d’humeur guillerette;3'] ['d’humeur jubilatoire;3']\n",
      " ['d’humeur pétillante;3'] ['d’humeur rieuse;3'] ['d’humeur voluptueuse;3']\n",
      " ['dans l’indicible;3'] ['dans l’unité;3'] ['dans la béatitude;3']\n",
      " ['de bonne humeur;3'] ['déridé;3'] ['diverti;3'] ['ébloui;3'] ['égayé;3']\n",
      " ['électrisé;3'] ['emballé;3'] ['embrasé;3'] ['émerveillé;3']\n",
      " ['émoustillé;3'] ['empressé;3'] ['ému;3'] ['en effervescence;3']\n",
      " ['en expansion;3'] ['en extase;3'] ['en liesse;3'] ['en pleine forme;3']\n",
      " ['enchanté;3'] ['énergétisé;3'] ['enflammé;3'] ['engoué;3'] ['enivré;3']\n",
      " ['enjoué;3'] ['enlevé;3'] ['ensorcelé;3'] ['enthousiaste;3'] ['envoûté;3']\n",
      " ['épanoui;3'] ['épaté;3'] ['éperdu;3'] ['éperonné;3'] ['épris;3']\n",
      " ['euphorique;3'] ['exalté;3'] ['excité;3'] ['extatique;3'] ['exultant;3']\n",
      " ['fasciné;3'] ['fier;3'] ['fou de joie;3'] ['frémissant;3']\n",
      " ['frétillant;3'] ['gai;3'] ['galvanisé;3'] ['grisé;3'] ['guilleret;3']\n",
      " ['heureux;3'] ['hilare;3'] ['intrigué;3'] ['joyeux;3'] ['jubilant;3']\n",
      " ['nourri;3'] ['optimiste;3'] ['passionné;3'] ['pétilant;3'] ['pétulant;3']\n",
      " ['plein;3'] ['plein d’acharnement;3'] ['plein d’amour;3']\n",
      " ['plein d’ardeur;3'] ['plein d’effervescence;3'] ['plein d’élan;3']\n",
      " ['plein d’émoi;3'] ['plein d’entrain;3'] ['plein d’espoir;3']\n",
      " ['plein d’hardiesse;3'] ['plein de courage;3'] ['plein d’énergie;3']\n",
      " ['plein de félicité;3'] ['plein de ferveur;3'] ['plein de feu;3']\n",
      " ['plein de fièvre;3'] ['plein de fougue;3'] ['plein de gratitude;3']\n",
      " ['plein de hâte;3'] ['plein de liesse;3'] ['plein de pétulance;3']\n",
      " ['plein de ténacité;3'] ['plein de vénération;3'] ['plein de vertige;3']\n",
      " ['plein de vie;3'] ['plein de vivacité;3'] ['plein de zèle;3']\n",
      " ['prendre feu;3'] ['radieux;3'] ['ravi;3'] ['ravigoté;3'] ['rayonnant;3']\n",
      " ['réjoui;3'] ['remonté;3'] ['rempli de bonheur;3'] ['riant;3']\n",
      " ['satisfait;3'] ['se fendre la gueule;3'] ['séduit;3'] ['stimulé;3']\n",
      " ['submergé de joie;3'] ['surexcité;3'] ['survolté;3'] ['tenté;3']\n",
      " ['titillé;3'] ['tonifié;3'] ['touché;3'] ['transi;3'] ['transporté;3']\n",
      " ['troublé;3'] ['vibrant;3'] ['vif;3'] ['vivant;3'] ['vivifié;3']\n",
      " ['à bout;4'] ['abattu;4'] ['accablé;4'] ['affecté;4'] ['affligé;4']\n",
      " ['anesthésié;4'] ['assommé;4'] ['atteint;4'] ['atterré;4'] ['attristé;4']\n",
      " ['avoir de la peine;4'] ['avoir du vague à l’âme;4']\n",
      " ['avoir le bourdon;4'] ['avoir le cafard;4'] ['avoir le coeur brisé;4']\n",
      " ['avoir le cœur gros;4'] ['avoir le cœur lourd;4']\n",
      " ['avoir le cœur percé;4'] ['avoir le coeur serré;4']\n",
      " ['avoir quelque chose sur le;4'] ['coeur;4'] ['baisser les bras;4']\n",
      " ['battre sa coulpe;4'] ['bouleversé;4'] ['broyer du noir;4']\n",
      " ['cafardeux;4'] ['chagriné;4'] ['chaviré;4'] ['comme une âme en peine;4']\n",
      " ['confondu;4'] ['consterné;4'] ['contrarié;4'] ['contristé;4']\n",
      " ['contrit;4'] ['coupable;4'] ['d’humeur chagrine;4'] ['d’humeur noire;4']\n",
      " ['dans tous ses états;4'] ['de mauvaise humeur;4'] ['déchiré;4']\n",
      " ['déconfit;4'] ['découragé;4'] ['déçu;4'] ['défait;4'] ['dégrisé;4']\n",
      " ['démoralisé;4'] ['démotivé;4'] ['dépité;4'] ['déprimé;4'] ['désabusé;4']\n",
      " ['désappointé;4'] ['désespéré;4'] ['désenchanté;4'] ['désillusionné;4']\n",
      " ['désolé;4'] ['ébranlé;4'] ['embêté;4'] ['ému;4']\n",
      " ['en avoir gros sur le coeur;4'] ['en avoir sec;4'] ['en désarroi;4']\n",
      " ['en détresse;4'] ['en manque;4'] ['ennuyé;4'] ['éploré;4'] ['éteint;4']\n",
      " ['étiolé;4'] ['étourdi;4'] ['fendre le coeur;4'] ['frappé;4']\n",
      " ['honteux;4'] ['inconfortable;4'] ['insatisfait;4'] ['lourd;4']\n",
      " ['lugubre;4'] ['mal à l’aise;4'] ['malheureux;4'] ['maussade;4']\n",
      " ['mécontent;4'] ['mélancolique;4'] ['mi-figue', ' mi-raisin;4']\n",
      " ['misérable;4'] ['morne;4'] ['morose;4'] ['mortifié;4'] ['navré;4']\n",
      " ['ne pas en mener large;4'] ['neurasthénique;4'] ['nostalgique;4']\n",
      " ['paumé;4'] ['peiné;4'] ['penaud;4'] ['perturbé;4'] ['pessimiste;4']\n",
      " ['plein de regret;4'] ['plombé;4'] ['plus mort que vif;4'] ['préoccupé;4']\n",
      " ['prostré;4'] ['réduit au désespoir;4'] ['rembruni;4'] ['repentant;4']\n",
      " ['résigné;4'] ['saisi;4'] ['sans élan;4'] ['sans entrain;4'] ['secoué;4']\n",
      " ['sombre;4'] ['soucieux;4'] ['submergé;4'] ['surmené;4'] ['terrassé;4']\n",
      " ['tourmenté;4'] ['tracassé;4'] ['traumatisé;4'] ['triste;4'] ['troublé;4']\n",
      " ['vaseux;4'] ['avoir le coeur au bord des;5'] ['lèvres;5']\n",
      " ['avoir le coeur dans la;5'] ['gorge;5'] ['dégoûté;5'] ['écoeuré;5']\n",
      " ['plein de répugnance;5'] ['rebuté;5'] ['rempli de répulsion;5']\n",
      " ['révulsé;5'] ['soulever le coeur;5'] ['à bout;6'] ['à cran;6']\n",
      " ['à crin;6'] ['acariâtre;6'] ['acerbe;6'] ['acrimonieux;6'] ['agacé;6']\n",
      " ['agité;6'] ['amer;6'] ['asticoté;6'] ['atrabilaire;6']\n",
      " ['avoir les nerfs à fleur de;6'] ['peau;6'] ['avoir les nerfs en boule;6']\n",
      " ['avoir les nerfs en pelote;6'] ['avoir un coup de sang;6']\n",
      " ['avoir quelque chose sur le;6'] ['coeur;6'] ['blessé;6']\n",
      " ['bouillonnant;6'] ['choqué;6'] ['coléreux;6'] ['contracté;6']\n",
      " ['contrarié;6'] ['courir sur le haricot;6'] ['courroucé;6'] ['crispé;6']\n",
      " ['d’humeur acariâtre;6'] ['d’humeur bougonne;6'] ['d’humeur bourrue;6']\n",
      " ['d’humeur hostile;6'] ['d’humeur massacrante;6'] ['d’humeur noire;6']\n",
      " ['d’humeur querelleuse;6'] ['d’humeur réprobatrice;6']\n",
      " ['d’humeur revêche;6'] ['d’humeur ronchonneuse;6'] ['dans des transes;6']\n",
      " ['dans tous ses états;6'] ['décharger sa bile;6'] ['dédaigneux;6']\n",
      " ['défiant;6'] ['dérangé;6'] ['devenir chèvre;6'] ['échauffé;6']\n",
      " ['emporté;6'] ['en avoir assez;6'] ['en avoir marre;6']\n",
      " ['en avoir par dessus la tête;6'] ['en avoir plein le dos;6']\n",
      " ['en avoir ras le bol;6'] ['en avoir sa claque;6'] ['en colère;6']\n",
      " ['en pétard;6'] ['en rogne;6'] ['écoeuré;6'] ['énervé;6'] ['entêté;6']\n",
      " ['envieux;6'] ['éperdu;6'] ['éperonné;6'] ['être à bout de nerf;6']\n",
      " ['exalté;6'] ['exaspéré;6'] ['excédé;6'] ['excité;6'] ['fâché;6']\n",
      " ['faire endêver;6'] ['faire tourner les sangs;6'] ['froissé;6']\n",
      " ['frustré;6'] ['garder rancune;6'] ['grincheux;6'] ['grognon;6']\n",
      " ['haineux;6'] ['hargneux;6'] ['hérissé;6'] ['heurté;6'] ['horripilé;6']\n",
      " ['hors de ses gonds;6'] ['impatient;6'] ['indigné;6'] ['irascible;6']\n",
      " ['irrité;6'] ['jaloux;6'] ['mal disposé;6'] ['marri;6'] ['mécontent;6']\n",
      " ['méfiant;6'] ['morose;6'] ['nerveux;6'] ['offusqué;6'] ['ombrageux;6']\n",
      " ['outré;6'] ['piqué au vif;6'] ['piteux;6'] ['plein d’acharnement;6']\n",
      " ['plein d’aigreur;6'] ['plein d’animosité;6'] ['plein d’aversion;6']\n",
      " ['plein d’exécration;6'] ['plein d’ire;6'] ['plein de bile;6']\n",
      " ['plein de fiel;6'] ['plein de fièvre;6'] ['plein de frénésie;6']\n",
      " ['plein de hâte;6'] ['plein de rancœur;6'] ['plein de rancune;6']\n",
      " ['plein de récrimination;6'] ['plein de réprobation;6']\n",
      " ['plein de ressentiment;6'] ['plein de véhémence;6']\n",
      " ['porter sur les nerfs;6'] ['prendre feu;6'] ['prendre la mouche;6']\n",
      " ['prendre ombrage;6'] ['rebêqué;6'] ['rebuté;6'] ['refroidi;6']\n",
      " ['rembruni;6'] ['remonté;6'] ['renfermé;6'] ['rétif;6'] ['révolté;6']\n",
      " ['s’échauffer la bile;6'] ['scandalisé;6'] ['se foutre en bombe;6']\n",
      " ['se mettre en boule;6'] ['sombre;6'] ['soupçonneux;6']\n",
      " ['sur les nerfs;6'] ['surexcité;6'] ['survolté;6'] ['susceptible;6']\n",
      " ['suspicieux;6'] ['taper sur les nerfs;6'] ['tendu;6'] ['titillé;6']\n",
      " ['tourmenté;6'] ['tracassé;6'] ['transi;6'] ['ulcéré;6'] ['vexé;6']\n",
      " ['enragé;7'] ['fou furieux;7'] ['furax;7'] ['furibond;7'] ['furieux;7']\n",
      " ['hors de soi;7'] ['ivre de rage;7'] ['poussé à bout;7'] ['affolé;8']\n",
      " ['alarmé;8'] ['anesthésié;8'] ['angoissé;8'] ['anxieux;8'] ['apeuré;8']\n",
      " ['aux abois;8'] ['aux cent coups;8'] ['avide;8']\n",
      " ['avoir des sueurs froides;8'] ['avoir la frousse;8']\n",
      " ['avoir la hantisse;8'] ['avoir la pétoche;8'] ['avoir la trouille;8']\n",
      " ['avoir les foies;8'] ['avoir les grelots;8'] ['avoir les jetons;8']\n",
      " ['blindé;8'] ['bloqué;8'] ['chaviré;8'] ['circonspect;8'] ['coupable;8']\n",
      " ['craintif;8'] ['dans des affres;8'] ['dans des transes;8'] ['déchiré;8']\n",
      " ['effarouché;8'] ['effrayé;8'] ['embarrassé;8'] ['en alerte;8']\n",
      " ['en désarroi;8'] ['en détresse;8'] ['envieux;8']\n",
      " ['faire tourner les sangs;8'] ['fébrile;8'] ['gêné;8'] ['hérissé;8']\n",
      " ['impatient;8'] ['incrédule;8'] ['inquiet;8'] ['intimidé;8'] ['jaloux;8']\n",
      " ['mal à l’aise;8'] ['mal assuré;8'] ['méfiant;8'] ['pantelant;8']\n",
      " ['pessimiste;8'] ['plein d’appréhension;8'] ['plein de convoitise;8']\n",
      " ['plein de hâte;8'] ['plein de pudeur;8'] ['plein de trac;8']\n",
      " ['plus mort que vif;8'] ['préoccupé;8'] ['prudent;8'] ['réservé;8']\n",
      " ['réticent;8'] ['sceptique;8'] ['se faire de la bile;8']\n",
      " ['se faire du mauvais sang;8'] ['se faire du mouron;8']\n",
      " ['se faire un sang d’encre;8'] ['se retourner les sangs;8']\n",
      " ['se ronger les moelles;8'] ['se ronger les poings;8']\n",
      " ['se ronger les sangs;8'] ['soucieux;8'] ['soupçonneux;8']\n",
      " ['sur des braises;8'] ['sur des charbons ardents;8']\n",
      " ['sur la défensive;8'] ['sur la réserve;8'] ['sur le qui-vive;8']\n",
      " ['sur ses gardes;8'] ['suspicieux;8'] ['timoré;8'] ['tomber de haut;8']\n",
      " ['transi;8'] ['traumatisé;8'] ['tremblant;8'] ['trémulant;8']\n",
      " ['vulnérable;8'] ['épouvanté;9'] ['glacé de peur;9'] ['horrifié;9']\n",
      " ['paniqué;9'] ['plein d’effroi;9'] ['plein de frousse;9'] ['terrifié;9']\n",
      " ['terrorisé;9'] ['traumatisé;9'] ['à plat;10'] ['abattu;10'] ['abruti;10']\n",
      " ['absent;10'] ['accablé;10'] ['affaibli;10'] ['alangui;10']\n",
      " ['amoindri;10'] ['anesthésié;10'] ['apathique;10'] ['appesanti;10']\n",
      " ['assourdi;10'] ['atone;10'] ['au bout du rouleau;10']\n",
      " ['baisser les bras;10'] ['ballotté;10'] ['blasé;10'] ['bloqué;10']\n",
      " ['chaviré;10'] ['claqué;10'] ['confus;10'] ['coupé;10'] ['crevé;10']\n",
      " ['dans tous ses états;10'] ['débordé;10'] ['déchiré;10'] ['déconnecté;10']\n",
      " ['démobilisé;10'] ['démonté;10'] ['démuni;10'] ['dépassé;10']\n",
      " ['dépourvu;10'] ['déprimé;10'] ['déréglé;10'] ['désarmé;10']\n",
      " ['désespéré;10'] ['désoeuvré;10'] ['détraqué;10'] ['diminué;10']\n",
      " ['distant;10'] ['distrait;10'] ['divisé;10'] ['ébranlé;10']\n",
      " ['écartelé;10'] ['effondré;10'] ['embarrassé;10'] ['embrouillé;10']\n",
      " ['emmêlé;10'] ['en retrait;10'] ['en suspens;10'] ['endormi;10']\n",
      " ['engourdi;10'] ['ennuyé;10'] ['éprouvé;10'] ['épuisé;10'] ['éreinté;10']\n",
      " ['essouflé;10'] ['éteint;10'] ['étiolé;10'] ['exténué;10'] ['fatigué;10']\n",
      " ['flageolant;10'] ['flapi;10'] ['fourbu;10'] ['harassé;10']\n",
      " ['hésitant;10'] ['impuissant;10'] ['inattentif;10'] ['incertain;10']\n",
      " ['incommodé;10'] ['inconfortable;10'] ['indécis;10'] ['indéterminé;10']\n",
      " ['indifférent;10'] ['indolent;10'] ['inerte;10'] ['insensibilisé;10']\n",
      " ['instable;10'] ['intimidé;10'] ['irrésolu;10'] ['K.-O.;10']\n",
      " ['languissant;10'] ['las;10'] ['lassé;10'] ['léthargique;10'] ['lourd;10']\n",
      " ['mal à l’aise;10'] ['mal assuré;10'] ['moulu;10']\n",
      " ['n’en pouvoir plus;10'] ['ne pas savoir sur quel;10'] ['pied danser;10']\n",
      " ['pantelant;10'] ['partagé;10'] ['paumé;10'] ['pensif;10']\n",
      " ['perdre la boussole;10'] ['perdre pied;10'] ['perdu;10'] ['perplexe;10']\n",
      " ['perturbé;10'] ['piteux;10'] ['plein d’atermoiement;10']\n",
      " ['plein de doute;10'] ['plein de scrupules;10']\n",
      " ['plein de tergiversation;10'] ['plein de torpeur;10']\n",
      " ['plus mort que vif;10'] ['ramolli;10'] ['recru;10'] ['rendu;10']\n",
      " ['résigné;10'] ['rêveur;10'] ['rompu;10'] ['roué de fatigue;10']\n",
      " ['sans élan;10'] ['sans entrain;10'] ['saturé;10'] ['seul;10']\n",
      " ['somnolent;10'] ['souffrant;10'] ['soûlé;10'] ['sous pression;10']\n",
      " ['submergé;10'] ['sur la retenue;10'] ['sur les dents;10'] ['surmené;10']\n",
      " ['tanné;10'] ['terrassé;10'] ['tiède;10'] ['timide;10'] ['tiraillé;10']\n",
      " ['usé;10'] ['vanné;10'] ['vaseux;10'] ['vidé;10'] ['vulnérable;10']]\n"
     ]
    }
   ],
   "source": [
    "import csv as csv \n",
    "import numpy as np\n",
    "\n",
    "# Open up the csv file in to a Python object\n",
    "data_all = []\n",
    "with open('motEmo.csv',encoding=\"utf8\") as train_file:\n",
    "    csv_reader = csv.reader(train_file, delimiter=',', quotechar='\"')\n",
    "    for row in csv_reader:\n",
    "        data_all.append(row)\n",
    "data_all = np.array(data_all)\n",
    "data = data_all[1::]\n",
    "\n",
    "print(data)"
   ]
  },
  {
   "cell_type": "code",
   "execution_count": 71,
   "metadata": {
    "collapsed": false
   },
   "outputs": [],
   "source": [
    "import pandas as pd\n",
    "#importation des fichiers CSV\n",
    "dfMotEmo = pd.read_csv('motEmo.csv',encoding=\"utf-8-sig\",delimiter=\";\",header=0)\n",
    "dfEmoCat = pd.read_csv('emoCat.csv',encoding=\"utf-8-sig\",delimiter=\";\",header=0)"
   ]
  },
  {
   "cell_type": "code",
   "execution_count": 72,
   "metadata": {
    "collapsed": false
   },
   "outputs": [
    {
     "data": {
      "text/html": [
       "<div>\n",
       "<table border=\"1\" class=\"dataframe\">\n",
       "  <thead>\n",
       "    <tr style=\"text-align: right;\">\n",
       "      <th></th>\n",
       "      <th>emotion</th>\n",
       "      <th>categorie</th>\n",
       "    </tr>\n",
       "  </thead>\n",
       "  <tbody>\n",
       "    <tr>\n",
       "      <th>0</th>\n",
       "      <td>tranquilité</td>\n",
       "      <td>1</td>\n",
       "    </tr>\n",
       "    <tr>\n",
       "      <th>1</th>\n",
       "      <td>Surprise</td>\n",
       "      <td>2</td>\n",
       "    </tr>\n",
       "    <tr>\n",
       "      <th>2</th>\n",
       "      <td>Joie</td>\n",
       "      <td>3</td>\n",
       "    </tr>\n",
       "    <tr>\n",
       "      <th>3</th>\n",
       "      <td>Tristesse</td>\n",
       "      <td>4</td>\n",
       "    </tr>\n",
       "    <tr>\n",
       "      <th>4</th>\n",
       "      <td>Dégoût</td>\n",
       "      <td>5</td>\n",
       "    </tr>\n",
       "    <tr>\n",
       "      <th>5</th>\n",
       "      <td>Colère</td>\n",
       "      <td>6</td>\n",
       "    </tr>\n",
       "    <tr>\n",
       "      <th>6</th>\n",
       "      <td>Fureur</td>\n",
       "      <td>7</td>\n",
       "    </tr>\n",
       "    <tr>\n",
       "      <th>7</th>\n",
       "      <td>Peur</td>\n",
       "      <td>8</td>\n",
       "    </tr>\n",
       "    <tr>\n",
       "      <th>8</th>\n",
       "      <td>Terreur</td>\n",
       "      <td>9</td>\n",
       "    </tr>\n",
       "    <tr>\n",
       "      <th>9</th>\n",
       "      <td>Coupure avec ses émotions</td>\n",
       "      <td>10</td>\n",
       "    </tr>\n",
       "  </tbody>\n",
       "</table>\n",
       "</div>"
      ],
      "text/plain": [
       "                     emotion  categorie\n",
       "0                tranquilité          1\n",
       "1                   Surprise          2\n",
       "2                       Joie          3\n",
       "3                  Tristesse          4\n",
       "4                     Dégoût          5\n",
       "5                     Colère          6\n",
       "6                     Fureur          7\n",
       "7                       Peur          8\n",
       "8                    Terreur          9\n",
       "9  Coupure avec ses émotions         10"
      ]
     },
     "execution_count": 72,
     "metadata": {},
     "output_type": "execute_result"
    }
   ],
   "source": [
    "dfEmoCat"
   ]
  },
  {
   "cell_type": "code",
   "execution_count": 83,
   "metadata": {
    "collapsed": false
   },
   "outputs": [
    {
     "data": {
      "text/plain": [
       "569    6\n",
       "Name: categorie, dtype: int64"
      ]
     },
     "execution_count": 83,
     "metadata": {},
     "output_type": "execute_result"
    }
   ],
   "source": [
    "dfMotEmo[dfMotEmo['expression']=='énervé']['categorie']"
   ]
  },
  {
   "cell_type": "code",
   "execution_count": 73,
   "metadata": {
    "collapsed": false
   },
   "outputs": [
    {
     "name": "stderr",
     "output_type": "stream",
     "text": [
      "C:\\Users\\Romain\\Anaconda3\\lib\\site-packages\\sklearn\\utils\\validation.py:515: DataConversionWarning: A column-vector y was passed when a 1d array was expected. Please change the shape of y to (n_samples, ), for example using ravel().\n",
      "  y = column_or_1d(y, warn=True)\n"
     ]
    },
    {
     "data": {
      "text/plain": [
       "LogisticRegression(C=100000.0, class_weight=None, dual=False,\n",
       "          fit_intercept=True, intercept_scaling=1, max_iter=100,\n",
       "          multi_class='ovr', n_jobs=1, penalty='l2', random_state=None,\n",
       "          solver='liblinear', tol=0.0001, verbose=0, warm_start=False)"
      ]
     },
     "execution_count": 73,
     "metadata": {},
     "output_type": "execute_result"
    }
   ],
   "source": [
    "import numpy as np\n",
    "import matplotlib.pyplot as plt\n",
    "from sklearn import linear_model, datasets\n",
    "\n",
    "logreg = linear_model.LogisticRegression(C=1e5)\n",
    "\n",
    "#data_X_train=dfMotEmo['categorie'].to_frame()\n",
    "#data_y_train=dfMotEmo['expression'].to_frame()\n",
    "\n",
    "data_X_train=dfEmoCat['categorie'].to_frame()\n",
    "data_y_train=dfEmoCat['emotion'].to_frame()\n",
    "\n",
    "logreg.fit(data_X_train, data_y_train)"
   ]
  },
  {
   "cell_type": "code",
   "execution_count": 130,
   "metadata": {
    "collapsed": false
   },
   "outputs": [
    {
     "name": "stdout",
     "output_type": "stream",
     "text": [
      "['tranquilité']\n"
     ]
    }
   ],
   "source": [
    "print(logreg.predict(1))"
   ]
  },
  {
   "cell_type": "code",
   "execution_count": 106,
   "metadata": {
    "collapsed": false
   },
   "outputs": [
    {
     "name": "stdout",
     "output_type": "stream",
     "text": [
      "17\n"
     ]
    },
    {
     "data": {
      "text/plain": [
       "['je', 'suis', 'énervées', 'par', 'toutes', 'ces', 'papiers']"
      ]
     },
     "execution_count": 106,
     "metadata": {},
     "output_type": "execute_result"
    }
   ],
   "source": [
    "phrasetest1=\"je suis énervées par tous ces papiers\"\n",
    "phrasetest2=\"content que tu sois diplomé\"\n",
    "index=phrasetest1.find('par')\n",
    "print(index)\n",
    "phrasetest1.split()\n"
   ]
  },
  {
   "cell_type": "code",
   "execution_count": 114,
   "metadata": {
    "collapsed": false
   },
   "outputs": [
    {
     "name": "stdout",
     "output_type": "stream",
     "text": [
      "[['énervé', 569    6\n",
      "Name: categorie, dtype: int64]]\n",
      "['Colère']\n"
     ]
    },
    {
     "name": "stderr",
     "output_type": "stream",
     "text": [
      "C:\\Users\\Romain\\Anaconda3\\lib\\site-packages\\sklearn\\utils\\validation.py:386: DeprecationWarning: Passing 1d arrays as data is deprecated in 0.17 and willraise ValueError in 0.19. Reshape your data either using X.reshape(-1, 1) if your data has a single feature or X.reshape(1, -1) if it contains a single sample.\n",
      "  DeprecationWarning)\n"
     ]
    }
   ],
   "source": [
    "#texte=\"La peur conduit à la colère. La colère à la haine. La haine aux ténèbres\"\n",
    "texte=phrasetest1;\n",
    "\n",
    "res=[]\n",
    "#split=phrasetest1.split()\n",
    "split=texte.split()\n",
    "for mot in split:\n",
    "    #nettoyage des données: j'enleve les genres sur un mot pour qu'il soit reconnu dans la BDD\n",
    "    if mot[-3:]==\"ées\" or mot[-3:]==\"és\" :\n",
    "        mot=mot[:-3]+\"é\"\n",
    "    if mot[-1:]==\"s\":\n",
    "        mot=mot[:-1]\n",
    "    #recherche dans la table des expression par emotion\n",
    "    for expr in dfMotEmo['expression']:\n",
    "        if expr==mot:\n",
    "            cat=dfMotEmo[dfMotEmo['expression']==expr]['categorie']\n",
    "            res.append([expr,cat])\n",
    "#si c'est une expression de plusieurs mots\n",
    "for expr in dfMotEmo['expression']:\n",
    "    if len(expr.split()) > 1:\n",
    "        if texte.find(expr) != -1:\n",
    "            cat=dfMotEmo[dfMotEmo['expression']==expr]['categorie']\n",
    "            res.append([expr,cat])\n",
    "        \n",
    "print(res)\n",
    "for r in res:\n",
    "    print(logreg.predict(r[1]))"
   ]
  },
  {
   "cell_type": "code",
   "execution_count": 129,
   "metadata": {
    "collapsed": false
   },
   "outputs": [
    {
     "ename": "URLError",
     "evalue": "<urlopen error [WinError 10061] Aucune connexion n’a pu être établie car l’ordinateur cible l’a expressément refusée>",
     "output_type": "error",
     "traceback": [
      "\u001b[0;31m---------------------------------------------------------------------------\u001b[0m",
      "\u001b[0;31mConnectionRefusedError\u001b[0m                    Traceback (most recent call last)",
      "\u001b[0;32mC:\\Users\\Romain\\Anaconda3\\lib\\urllib\\request.py\u001b[0m in \u001b[0;36mdo_open\u001b[0;34m(self, http_class, req, **http_conn_args)\u001b[0m\n\u001b[1;32m   1253\u001b[0m             \u001b[1;32mtry\u001b[0m\u001b[1;33m:\u001b[0m\u001b[1;33m\u001b[0m\u001b[0m\n\u001b[0;32m-> 1254\u001b[0;31m                 \u001b[0mh\u001b[0m\u001b[1;33m.\u001b[0m\u001b[0mrequest\u001b[0m\u001b[1;33m(\u001b[0m\u001b[0mreq\u001b[0m\u001b[1;33m.\u001b[0m\u001b[0mget_method\u001b[0m\u001b[1;33m(\u001b[0m\u001b[1;33m)\u001b[0m\u001b[1;33m,\u001b[0m \u001b[0mreq\u001b[0m\u001b[1;33m.\u001b[0m\u001b[0mselector\u001b[0m\u001b[1;33m,\u001b[0m \u001b[0mreq\u001b[0m\u001b[1;33m.\u001b[0m\u001b[0mdata\u001b[0m\u001b[1;33m,\u001b[0m \u001b[0mheaders\u001b[0m\u001b[1;33m)\u001b[0m\u001b[1;33m\u001b[0m\u001b[0m\n\u001b[0m\u001b[1;32m   1255\u001b[0m             \u001b[1;32mexcept\u001b[0m \u001b[0mOSError\u001b[0m \u001b[1;32mas\u001b[0m \u001b[0merr\u001b[0m\u001b[1;33m:\u001b[0m \u001b[1;31m# timeout error\u001b[0m\u001b[1;33m\u001b[0m\u001b[0m\n",
      "\u001b[0;32mC:\\Users\\Romain\\Anaconda3\\lib\\http\\client.py\u001b[0m in \u001b[0;36mrequest\u001b[0;34m(self, method, url, body, headers)\u001b[0m\n\u001b[1;32m   1105\u001b[0m         \u001b[1;34m\"\"\"Send a complete request to the server.\"\"\"\u001b[0m\u001b[1;33m\u001b[0m\u001b[0m\n\u001b[0;32m-> 1106\u001b[0;31m         \u001b[0mself\u001b[0m\u001b[1;33m.\u001b[0m\u001b[0m_send_request\u001b[0m\u001b[1;33m(\u001b[0m\u001b[0mmethod\u001b[0m\u001b[1;33m,\u001b[0m \u001b[0murl\u001b[0m\u001b[1;33m,\u001b[0m \u001b[0mbody\u001b[0m\u001b[1;33m,\u001b[0m \u001b[0mheaders\u001b[0m\u001b[1;33m)\u001b[0m\u001b[1;33m\u001b[0m\u001b[0m\n\u001b[0m\u001b[1;32m   1107\u001b[0m \u001b[1;33m\u001b[0m\u001b[0m\n",
      "\u001b[0;32mC:\\Users\\Romain\\Anaconda3\\lib\\http\\client.py\u001b[0m in \u001b[0;36m_send_request\u001b[0;34m(self, method, url, body, headers)\u001b[0m\n\u001b[1;32m   1150\u001b[0m             \u001b[0mbody\u001b[0m \u001b[1;33m=\u001b[0m \u001b[0m_encode\u001b[0m\u001b[1;33m(\u001b[0m\u001b[0mbody\u001b[0m\u001b[1;33m,\u001b[0m \u001b[1;34m'body'\u001b[0m\u001b[1;33m)\u001b[0m\u001b[1;33m\u001b[0m\u001b[0m\n\u001b[0;32m-> 1151\u001b[0;31m         \u001b[0mself\u001b[0m\u001b[1;33m.\u001b[0m\u001b[0mendheaders\u001b[0m\u001b[1;33m(\u001b[0m\u001b[0mbody\u001b[0m\u001b[1;33m)\u001b[0m\u001b[1;33m\u001b[0m\u001b[0m\n\u001b[0m\u001b[1;32m   1152\u001b[0m \u001b[1;33m\u001b[0m\u001b[0m\n",
      "\u001b[0;32mC:\\Users\\Romain\\Anaconda3\\lib\\http\\client.py\u001b[0m in \u001b[0;36mendheaders\u001b[0;34m(self, message_body)\u001b[0m\n\u001b[1;32m   1101\u001b[0m             \u001b[1;32mraise\u001b[0m \u001b[0mCannotSendHeader\u001b[0m\u001b[1;33m(\u001b[0m\u001b[1;33m)\u001b[0m\u001b[1;33m\u001b[0m\u001b[0m\n\u001b[0;32m-> 1102\u001b[0;31m         \u001b[0mself\u001b[0m\u001b[1;33m.\u001b[0m\u001b[0m_send_output\u001b[0m\u001b[1;33m(\u001b[0m\u001b[0mmessage_body\u001b[0m\u001b[1;33m)\u001b[0m\u001b[1;33m\u001b[0m\u001b[0m\n\u001b[0m\u001b[1;32m   1103\u001b[0m \u001b[1;33m\u001b[0m\u001b[0m\n",
      "\u001b[0;32mC:\\Users\\Romain\\Anaconda3\\lib\\http\\client.py\u001b[0m in \u001b[0;36m_send_output\u001b[0;34m(self, message_body)\u001b[0m\n\u001b[1;32m    933\u001b[0m \u001b[1;33m\u001b[0m\u001b[0m\n\u001b[0;32m--> 934\u001b[0;31m         \u001b[0mself\u001b[0m\u001b[1;33m.\u001b[0m\u001b[0msend\u001b[0m\u001b[1;33m(\u001b[0m\u001b[0mmsg\u001b[0m\u001b[1;33m)\u001b[0m\u001b[1;33m\u001b[0m\u001b[0m\n\u001b[0m\u001b[1;32m    935\u001b[0m         \u001b[1;32mif\u001b[0m \u001b[0mmessage_body\u001b[0m \u001b[1;32mis\u001b[0m \u001b[1;32mnot\u001b[0m \u001b[1;32mNone\u001b[0m\u001b[1;33m:\u001b[0m\u001b[1;33m\u001b[0m\u001b[0m\n",
      "\u001b[0;32mC:\\Users\\Romain\\Anaconda3\\lib\\http\\client.py\u001b[0m in \u001b[0;36msend\u001b[0;34m(self, data)\u001b[0m\n\u001b[1;32m    876\u001b[0m             \u001b[1;32mif\u001b[0m \u001b[0mself\u001b[0m\u001b[1;33m.\u001b[0m\u001b[0mauto_open\u001b[0m\u001b[1;33m:\u001b[0m\u001b[1;33m\u001b[0m\u001b[0m\n\u001b[0;32m--> 877\u001b[0;31m                 \u001b[0mself\u001b[0m\u001b[1;33m.\u001b[0m\u001b[0mconnect\u001b[0m\u001b[1;33m(\u001b[0m\u001b[1;33m)\u001b[0m\u001b[1;33m\u001b[0m\u001b[0m\n\u001b[0m\u001b[1;32m    878\u001b[0m             \u001b[1;32melse\u001b[0m\u001b[1;33m:\u001b[0m\u001b[1;33m\u001b[0m\u001b[0m\n",
      "\u001b[0;32mC:\\Users\\Romain\\Anaconda3\\lib\\http\\client.py\u001b[0m in \u001b[0;36mconnect\u001b[0;34m(self)\u001b[0m\n\u001b[1;32m   1251\u001b[0m \u001b[1;33m\u001b[0m\u001b[0m\n\u001b[0;32m-> 1252\u001b[0;31m             \u001b[0msuper\u001b[0m\u001b[1;33m(\u001b[0m\u001b[1;33m)\u001b[0m\u001b[1;33m.\u001b[0m\u001b[0mconnect\u001b[0m\u001b[1;33m(\u001b[0m\u001b[1;33m)\u001b[0m\u001b[1;33m\u001b[0m\u001b[0m\n\u001b[0m\u001b[1;32m   1253\u001b[0m \u001b[1;33m\u001b[0m\u001b[0m\n",
      "\u001b[0;32mC:\\Users\\Romain\\Anaconda3\\lib\\http\\client.py\u001b[0m in \u001b[0;36mconnect\u001b[0;34m(self)\u001b[0m\n\u001b[1;32m    848\u001b[0m         self.sock = self._create_connection(\n\u001b[0;32m--> 849\u001b[0;31m             (self.host,self.port), self.timeout, self.source_address)\n\u001b[0m\u001b[1;32m    850\u001b[0m         \u001b[0mself\u001b[0m\u001b[1;33m.\u001b[0m\u001b[0msock\u001b[0m\u001b[1;33m.\u001b[0m\u001b[0msetsockopt\u001b[0m\u001b[1;33m(\u001b[0m\u001b[0msocket\u001b[0m\u001b[1;33m.\u001b[0m\u001b[0mIPPROTO_TCP\u001b[0m\u001b[1;33m,\u001b[0m \u001b[0msocket\u001b[0m\u001b[1;33m.\u001b[0m\u001b[0mTCP_NODELAY\u001b[0m\u001b[1;33m,\u001b[0m \u001b[1;36m1\u001b[0m\u001b[1;33m)\u001b[0m\u001b[1;33m\u001b[0m\u001b[0m\n",
      "\u001b[0;32mC:\\Users\\Romain\\Anaconda3\\lib\\socket.py\u001b[0m in \u001b[0;36mcreate_connection\u001b[0;34m(address, timeout, source_address)\u001b[0m\n\u001b[1;32m    710\u001b[0m     \u001b[1;32mif\u001b[0m \u001b[0merr\u001b[0m \u001b[1;32mis\u001b[0m \u001b[1;32mnot\u001b[0m \u001b[1;32mNone\u001b[0m\u001b[1;33m:\u001b[0m\u001b[1;33m\u001b[0m\u001b[0m\n\u001b[0;32m--> 711\u001b[0;31m         \u001b[1;32mraise\u001b[0m \u001b[0merr\u001b[0m\u001b[1;33m\u001b[0m\u001b[0m\n\u001b[0m\u001b[1;32m    712\u001b[0m     \u001b[1;32melse\u001b[0m\u001b[1;33m:\u001b[0m\u001b[1;33m\u001b[0m\u001b[0m\n",
      "\u001b[0;32mC:\\Users\\Romain\\Anaconda3\\lib\\socket.py\u001b[0m in \u001b[0;36mcreate_connection\u001b[0;34m(address, timeout, source_address)\u001b[0m\n\u001b[1;32m    701\u001b[0m                 \u001b[0msock\u001b[0m\u001b[1;33m.\u001b[0m\u001b[0mbind\u001b[0m\u001b[1;33m(\u001b[0m\u001b[0msource_address\u001b[0m\u001b[1;33m)\u001b[0m\u001b[1;33m\u001b[0m\u001b[0m\n\u001b[0;32m--> 702\u001b[0;31m             \u001b[0msock\u001b[0m\u001b[1;33m.\u001b[0m\u001b[0mconnect\u001b[0m\u001b[1;33m(\u001b[0m\u001b[0msa\u001b[0m\u001b[1;33m)\u001b[0m\u001b[1;33m\u001b[0m\u001b[0m\n\u001b[0m\u001b[1;32m    703\u001b[0m             \u001b[1;32mreturn\u001b[0m \u001b[0msock\u001b[0m\u001b[1;33m\u001b[0m\u001b[0m\n",
      "\u001b[0;31mConnectionRefusedError\u001b[0m: [WinError 10061] Aucune connexion n’a pu être établie car l’ordinateur cible l’a expressément refusée",
      "\nDuring handling of the above exception, another exception occurred:\n",
      "\u001b[0;31mURLError\u001b[0m                                  Traceback (most recent call last)",
      "\u001b[0;32m<ipython-input-129-88d2863a584a>\u001b[0m in \u001b[0;36m<module>\u001b[0;34m()\u001b[0m\n\u001b[1;32m      1\u001b[0m \u001b[1;32mimport\u001b[0m \u001b[0murllib\u001b[0m\u001b[1;33m.\u001b[0m\u001b[0mrequest\u001b[0m\u001b[1;33m\u001b[0m\u001b[0m\n\u001b[0;32m----> 2\u001b[0;31m \u001b[1;32mwith\u001b[0m \u001b[0murllib\u001b[0m\u001b[1;33m.\u001b[0m\u001b[0mrequest\u001b[0m\u001b[1;33m.\u001b[0m\u001b[0murlopen\u001b[0m\u001b[1;33m(\u001b[0m\u001b[1;34m'https://api.ultralingua.com/api/conjugations/fra/mettre'\u001b[0m\u001b[1;33m)\u001b[0m \u001b[1;32mas\u001b[0m \u001b[0mresponse\u001b[0m\u001b[1;33m:\u001b[0m\u001b[1;33m\u001b[0m\u001b[0m\n\u001b[0m\u001b[1;32m      3\u001b[0m    \u001b[0mhtml\u001b[0m \u001b[1;33m=\u001b[0m \u001b[0mresponse\u001b[0m\u001b[1;33m.\u001b[0m\u001b[0mread\u001b[0m\u001b[1;33m(\u001b[0m\u001b[1;33m)\u001b[0m\u001b[1;33m\u001b[0m\u001b[0m\n",
      "\u001b[0;32mC:\\Users\\Romain\\Anaconda3\\lib\\urllib\\request.py\u001b[0m in \u001b[0;36murlopen\u001b[0;34m(url, data, timeout, cafile, capath, cadefault, context)\u001b[0m\n\u001b[1;32m    161\u001b[0m     \u001b[1;32melse\u001b[0m\u001b[1;33m:\u001b[0m\u001b[1;33m\u001b[0m\u001b[0m\n\u001b[1;32m    162\u001b[0m         \u001b[0mopener\u001b[0m \u001b[1;33m=\u001b[0m \u001b[0m_opener\u001b[0m\u001b[1;33m\u001b[0m\u001b[0m\n\u001b[0;32m--> 163\u001b[0;31m     \u001b[1;32mreturn\u001b[0m \u001b[0mopener\u001b[0m\u001b[1;33m.\u001b[0m\u001b[0mopen\u001b[0m\u001b[1;33m(\u001b[0m\u001b[0murl\u001b[0m\u001b[1;33m,\u001b[0m \u001b[0mdata\u001b[0m\u001b[1;33m,\u001b[0m \u001b[0mtimeout\u001b[0m\u001b[1;33m)\u001b[0m\u001b[1;33m\u001b[0m\u001b[0m\n\u001b[0m\u001b[1;32m    164\u001b[0m \u001b[1;33m\u001b[0m\u001b[0m\n\u001b[1;32m    165\u001b[0m \u001b[1;32mdef\u001b[0m \u001b[0minstall_opener\u001b[0m\u001b[1;33m(\u001b[0m\u001b[0mopener\u001b[0m\u001b[1;33m)\u001b[0m\u001b[1;33m:\u001b[0m\u001b[1;33m\u001b[0m\u001b[0m\n",
      "\u001b[0;32mC:\\Users\\Romain\\Anaconda3\\lib\\urllib\\request.py\u001b[0m in \u001b[0;36mopen\u001b[0;34m(self, fullurl, data, timeout)\u001b[0m\n\u001b[1;32m    464\u001b[0m             \u001b[0mreq\u001b[0m \u001b[1;33m=\u001b[0m \u001b[0mmeth\u001b[0m\u001b[1;33m(\u001b[0m\u001b[0mreq\u001b[0m\u001b[1;33m)\u001b[0m\u001b[1;33m\u001b[0m\u001b[0m\n\u001b[1;32m    465\u001b[0m \u001b[1;33m\u001b[0m\u001b[0m\n\u001b[0;32m--> 466\u001b[0;31m         \u001b[0mresponse\u001b[0m \u001b[1;33m=\u001b[0m \u001b[0mself\u001b[0m\u001b[1;33m.\u001b[0m\u001b[0m_open\u001b[0m\u001b[1;33m(\u001b[0m\u001b[0mreq\u001b[0m\u001b[1;33m,\u001b[0m \u001b[0mdata\u001b[0m\u001b[1;33m)\u001b[0m\u001b[1;33m\u001b[0m\u001b[0m\n\u001b[0m\u001b[1;32m    467\u001b[0m \u001b[1;33m\u001b[0m\u001b[0m\n\u001b[1;32m    468\u001b[0m         \u001b[1;31m# post-process response\u001b[0m\u001b[1;33m\u001b[0m\u001b[1;33m\u001b[0m\u001b[0m\n",
      "\u001b[0;32mC:\\Users\\Romain\\Anaconda3\\lib\\urllib\\request.py\u001b[0m in \u001b[0;36m_open\u001b[0;34m(self, req, data)\u001b[0m\n\u001b[1;32m    482\u001b[0m         \u001b[0mprotocol\u001b[0m \u001b[1;33m=\u001b[0m \u001b[0mreq\u001b[0m\u001b[1;33m.\u001b[0m\u001b[0mtype\u001b[0m\u001b[1;33m\u001b[0m\u001b[0m\n\u001b[1;32m    483\u001b[0m         result = self._call_chain(self.handle_open, protocol, protocol +\n\u001b[0;32m--> 484\u001b[0;31m                                   '_open', req)\n\u001b[0m\u001b[1;32m    485\u001b[0m         \u001b[1;32mif\u001b[0m \u001b[0mresult\u001b[0m\u001b[1;33m:\u001b[0m\u001b[1;33m\u001b[0m\u001b[0m\n\u001b[1;32m    486\u001b[0m             \u001b[1;32mreturn\u001b[0m \u001b[0mresult\u001b[0m\u001b[1;33m\u001b[0m\u001b[0m\n",
      "\u001b[0;32mC:\\Users\\Romain\\Anaconda3\\lib\\urllib\\request.py\u001b[0m in \u001b[0;36m_call_chain\u001b[0;34m(self, chain, kind, meth_name, *args)\u001b[0m\n\u001b[1;32m    442\u001b[0m         \u001b[1;32mfor\u001b[0m \u001b[0mhandler\u001b[0m \u001b[1;32min\u001b[0m \u001b[0mhandlers\u001b[0m\u001b[1;33m:\u001b[0m\u001b[1;33m\u001b[0m\u001b[0m\n\u001b[1;32m    443\u001b[0m             \u001b[0mfunc\u001b[0m \u001b[1;33m=\u001b[0m \u001b[0mgetattr\u001b[0m\u001b[1;33m(\u001b[0m\u001b[0mhandler\u001b[0m\u001b[1;33m,\u001b[0m \u001b[0mmeth_name\u001b[0m\u001b[1;33m)\u001b[0m\u001b[1;33m\u001b[0m\u001b[0m\n\u001b[0;32m--> 444\u001b[0;31m             \u001b[0mresult\u001b[0m \u001b[1;33m=\u001b[0m \u001b[0mfunc\u001b[0m\u001b[1;33m(\u001b[0m\u001b[1;33m*\u001b[0m\u001b[0margs\u001b[0m\u001b[1;33m)\u001b[0m\u001b[1;33m\u001b[0m\u001b[0m\n\u001b[0m\u001b[1;32m    445\u001b[0m             \u001b[1;32mif\u001b[0m \u001b[0mresult\u001b[0m \u001b[1;32mis\u001b[0m \u001b[1;32mnot\u001b[0m \u001b[1;32mNone\u001b[0m\u001b[1;33m:\u001b[0m\u001b[1;33m\u001b[0m\u001b[0m\n\u001b[1;32m    446\u001b[0m                 \u001b[1;32mreturn\u001b[0m \u001b[0mresult\u001b[0m\u001b[1;33m\u001b[0m\u001b[0m\n",
      "\u001b[0;32mC:\\Users\\Romain\\Anaconda3\\lib\\urllib\\request.py\u001b[0m in \u001b[0;36mhttps_open\u001b[0;34m(self, req)\u001b[0m\n\u001b[1;32m   1295\u001b[0m         \u001b[1;32mdef\u001b[0m \u001b[0mhttps_open\u001b[0m\u001b[1;33m(\u001b[0m\u001b[0mself\u001b[0m\u001b[1;33m,\u001b[0m \u001b[0mreq\u001b[0m\u001b[1;33m)\u001b[0m\u001b[1;33m:\u001b[0m\u001b[1;33m\u001b[0m\u001b[0m\n\u001b[1;32m   1296\u001b[0m             return self.do_open(http.client.HTTPSConnection, req,\n\u001b[0;32m-> 1297\u001b[0;31m                 context=self._context, check_hostname=self._check_hostname)\n\u001b[0m\u001b[1;32m   1298\u001b[0m \u001b[1;33m\u001b[0m\u001b[0m\n\u001b[1;32m   1299\u001b[0m         \u001b[0mhttps_request\u001b[0m \u001b[1;33m=\u001b[0m \u001b[0mAbstractHTTPHandler\u001b[0m\u001b[1;33m.\u001b[0m\u001b[0mdo_request_\u001b[0m\u001b[1;33m\u001b[0m\u001b[0m\n",
      "\u001b[0;32mC:\\Users\\Romain\\Anaconda3\\lib\\urllib\\request.py\u001b[0m in \u001b[0;36mdo_open\u001b[0;34m(self, http_class, req, **http_conn_args)\u001b[0m\n\u001b[1;32m   1254\u001b[0m                 \u001b[0mh\u001b[0m\u001b[1;33m.\u001b[0m\u001b[0mrequest\u001b[0m\u001b[1;33m(\u001b[0m\u001b[0mreq\u001b[0m\u001b[1;33m.\u001b[0m\u001b[0mget_method\u001b[0m\u001b[1;33m(\u001b[0m\u001b[1;33m)\u001b[0m\u001b[1;33m,\u001b[0m \u001b[0mreq\u001b[0m\u001b[1;33m.\u001b[0m\u001b[0mselector\u001b[0m\u001b[1;33m,\u001b[0m \u001b[0mreq\u001b[0m\u001b[1;33m.\u001b[0m\u001b[0mdata\u001b[0m\u001b[1;33m,\u001b[0m \u001b[0mheaders\u001b[0m\u001b[1;33m)\u001b[0m\u001b[1;33m\u001b[0m\u001b[0m\n\u001b[1;32m   1255\u001b[0m             \u001b[1;32mexcept\u001b[0m \u001b[0mOSError\u001b[0m \u001b[1;32mas\u001b[0m \u001b[0merr\u001b[0m\u001b[1;33m:\u001b[0m \u001b[1;31m# timeout error\u001b[0m\u001b[1;33m\u001b[0m\u001b[0m\n\u001b[0;32m-> 1256\u001b[0;31m                 \u001b[1;32mraise\u001b[0m \u001b[0mURLError\u001b[0m\u001b[1;33m(\u001b[0m\u001b[0merr\u001b[0m\u001b[1;33m)\u001b[0m\u001b[1;33m\u001b[0m\u001b[0m\n\u001b[0m\u001b[1;32m   1257\u001b[0m             \u001b[0mr\u001b[0m \u001b[1;33m=\u001b[0m \u001b[0mh\u001b[0m\u001b[1;33m.\u001b[0m\u001b[0mgetresponse\u001b[0m\u001b[1;33m(\u001b[0m\u001b[1;33m)\u001b[0m\u001b[1;33m\u001b[0m\u001b[0m\n\u001b[1;32m   1258\u001b[0m         \u001b[1;32mexcept\u001b[0m\u001b[1;33m:\u001b[0m\u001b[1;33m\u001b[0m\u001b[0m\n",
      "\u001b[0;31mURLError\u001b[0m: <urlopen error [WinError 10061] Aucune connexion n’a pu être établie car l’ordinateur cible l’a expressément refusée>"
     ]
    }
   ],
   "source": [
    "#test d'une api pour la conjugaison, mais elle est payante, je n'ai donc pas les droits\n",
    "import urllib.request\n",
    "with urllib.request.urlopen('https://api.ultralingua.com/api/conjugations/fra/mettre') as response:\n",
    "   html = response.read()"
   ]
  },
  {
   "cell_type": "code",
   "execution_count": null,
   "metadata": {
    "collapsed": true
   },
   "outputs": [],
   "source": []
  }
 ],
 "metadata": {
  "anaconda-cloud": {},
  "kernelspec": {
   "display_name": "Python [default]",
   "language": "python",
   "name": "python3"
  },
  "language_info": {
   "codemirror_mode": {
    "name": "ipython",
    "version": 3
   },
   "file_extension": ".py",
   "mimetype": "text/x-python",
   "name": "python",
   "nbconvert_exporter": "python",
   "pygments_lexer": "ipython3",
   "version": "3.5.2"
  }
 },
 "nbformat": 4,
 "nbformat_minor": 1
}
