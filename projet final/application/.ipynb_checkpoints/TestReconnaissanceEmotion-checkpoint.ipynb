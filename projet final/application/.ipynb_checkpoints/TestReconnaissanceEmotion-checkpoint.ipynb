{
 "cells": [
  {
   "cell_type": "code",
   "execution_count": 12,
   "metadata": {
    "collapsed": false
   },
   "outputs": [
    {
     "name": "stdout",
     "output_type": "stream",
     "text": [
      "[['1;à l’aise;1'] ['2;absorbé;1'] ['3;adouci;1'] ['4;affermi;1']\n",
      " ['5;aimant;1'] ['6;alerte;1'] ['7;allégé;1'] ['8;amadoué;1']\n",
      " ['9;apaisé;1'] ['10;apitoyé;1'] ['11;assouvi;1'] ['12;attendri;1']\n",
      " ['13;attentif;1'] ['14;bien disposé;1'] ['15;calme;1'] ['16;centré;1']\n",
      " ['17;comblé;1'] ['18;compatissant;1'] ['19;compréhensif;1']\n",
      " ['20;concentré;1'] ['21;concerné;1'] ['22;conciliant;1'] ['23;confiant;1']\n",
      " ['24;confortable;1'] ['25;conforté;1'] ['26;consolé;1'] ['27;consolidé;1']\n",
      " ['28;cool;1'] ['29;d’humeur amicale;1'] ['30;d’humeur insouciante;1']\n",
      " ['31;dans l’indicible;1'] ['32;dans l’unité;1'] ['33;dans la plénitude;1']\n",
      " ['34;déchargé;1'] ['35;décontracté;1'] ['36;décrispé;1'] ['37;délassé;1']\n",
      " ['38;délesté;1'] ['39;délivré;1'] ['40;détaché;1'] ['41;détendu;1']\n",
      " ['42;déterminé;1'] ['43;disponible;1'] ['44;dispos;1'] ['45;dubitatif;1']\n",
      " ['46;égal;1'] ['47;empli de bienveillance;1'] ['48;empli de tendresse;1']\n",
      " ['49;empressé;1'] ['50;en confiance;1'] ['51;en harmonie avec;1']\n",
      " ['52;en paix;1'] ['53;encouragé;1'] ['54;épanoui;1'] ['55;équilibré;1']\n",
      " ['56;éveillé;1'] ['57;flegmatique;1'] ['58;fortifié;1'] ['59;gavé;1']\n",
      " ['60;gonflé à bloc;1'] ['61;impassible;1'] ['62;impavide;1']\n",
      " ['63;imperturbable;1'] ['64;impliqué;1'] ['65;incrédule;1']\n",
      " ['66;inébranlable;1'] ['67;insouciant;1'] ['68;inspiré;1']\n",
      " ['69;intéressé;1'] ['70;léger;1'] ['71;libéré;1'] ['72;libre;1']\n",
      " ['73;miséricordieux;1'] ['74;mobilisé;1'] ['75;nonchalant;1']\n",
      " ['76;nourri;1'] ['77;ouvert;1'] ['78;paisible;1'] ['79;peinard;1']\n",
      " ['80;placide;1'] ['81;plein;1'] ['82;plein d’affection;1']\n",
      " ['83;plein d’amour;1'] ['84;plein d’application;1']\n",
      " ['85;plein d’aplomb;1'] ['86;plein d’appréciation;1']\n",
      " ['87;plein d’assurance;1'] ['88;plein d’empathie;1']\n",
      " ['89;plein d’énergie;1'] ['90;plein d’équanimité;1']\n",
      " ['91;plein d’inclination;1'] ['92;plein de bénignité;1']\n",
      " ['93;plein de chaleur;1'] ['94;plein de commisération;1']\n",
      " ['95;plein de compassion;1'] ['96;plein de douceur;1']\n",
      " ['97;plein de gratitude;1'] ['98;plein de mansuétude;1']\n",
      " ['99;plein d’opiniâtreté;1'] ['100;plein de persévérance;1']\n",
      " ['101;plein de pitié;1'] ['102;plein de prévenance;1']\n",
      " ['103;plein de quiétude;1'] ['104;plein de révérence;1']\n",
      " ['105;plein de sympathie;1'] ['106;plein de tendresse;1']\n",
      " ['107;pondéré;1'] ['108;posé;1'] ['109;présent;1'] ['110;proche;1']\n",
      " ['111;quiet;1'] ['112;radouci;1'] ['113;raffermi;1'] ['114;rafraîchi;1']\n",
      " ['115;ragaillardi;1'] ['116;rassasié;1'] ['117;rasséréné;1']\n",
      " ['118;rassuré;1'] ['119;réchauffer le coeur;1'] ['120;réconforté;1']\n",
      " ['121;reconnaissant;1'] ['122;récréé;1'] ['123;régénéré;1']\n",
      " ['124;regonflé;1'] ['125;relâché;1'] ['126;relax;1'] ['127;relaxé;1']\n",
      " ['128;relié;1'] ['129;remonté;1'] ['130;renforcé;1']\n",
      " ['131;reprendre haleine;1'] ['132;repu;1'] ['133;renforcé;1']\n",
      " ['134;résolu;1'] ['135;rester de marbre;1'] ['136;revigoré;1']\n",
      " ['137;satisfait;1'] ['138;sceptique;1'] ['139;sécurisé;1']\n",
      " ['140;sensibilisé;1'] ['141;sensible;1'] ['142;serein;1']\n",
      " ['143;soulagé;1'] ['144;stable;1'] ['145;stimulé;1'] ['146;stoïque;1']\n",
      " ['147;sûr de soi;1'] ['148;tenir au coeur;1'] ['149;tranquille;1']\n",
      " ['150;vacant;1'] ['151;zen;1'] ['152;abasourdi;2'] ['153;agité;2']\n",
      " ['154;ahuri;2'] ['155;assommé;2'] ['156;avoir le souffle coupé;2']\n",
      " ['157;blindé;2'] ['158;bluffé;2'] ['159;chancelant;2'] ['160;choqué;2']\n",
      " ['161;confondu;2'] ['162;confus;2'] ['163;débordé;2'] ['164;déboussolé;2']\n",
      " ['165;déconcerté;2'] ['166;décontenancé;2'] ['167;dépaysé;2']\n",
      " ['168;dérangé;2'] ['169;dérouté;2'] ['170;désarçonné;2']\n",
      " ['171;désemparé;2'] ['172;désorienté;2'] ['173;déstabilisé;2']\n",
      " ['174;distrait;2'] ['175;ébahi;2'] ['176;éberlué;2'] ['177;effaré;2']\n",
      " ['178;égaré;2'] ['179;embarrassé;2'] ['180;embrouillé;2'] ['181;emmêlé;2']\n",
      " ['182;émotionné;2'] ['183;ému;2'] ['184;en boucher un coin;2']\n",
      " ['185;en plein désarroi;2'] ['186;en rester comme deux;2'] ['187;ronds;2']\n",
      " ['188;de flan;2'] ['189;en suspens;2'] ['190;engourdi;2'] ['191;épaté;2']\n",
      " ['192;estomaqué;2'] ['193;étonné;2'] ['194;étourdi;2'] ['195;figé;2']\n",
      " ['196;foudroyé;2'] ['197;frappé;2'] ['198;frappé de stupeur;2']\n",
      " ['199;hébété;2'] ['200;hésitant;2'] ['201;impressionné;2']\n",
      " ['202;incommodé;2'] ['203;indécis;2'] ['204;interdit;2']\n",
      " ['205;interloqué;2'] ['206;interpellé;2'] ['207;intrigué;2']\n",
      " ['208;irrésolu;2'] ['209;médusé;2'] ['210;ne pas savoir sur quel;2']\n",
      " ['211;pied danser;2'] ['212;pantois;2'] ['213;perplexe;2']\n",
      " ['214;pétrifié;2'] ['215;plombé;2'] ['216;pris au dépourvu;2']\n",
      " ['217;pris de court;2'] ['218;prostré;2'] ['219;renversé;2']\n",
      " ['220;rester bouche bée;2'] ['221;retourné;2'] ['222;saisi;2']\n",
      " ['223;saturé;2'] ['224;scotché;2'] ['225;secoué;2'] ['226;sidéré;2']\n",
      " ['227;soufflé;2'] ['228;stupéfait;2'] ['229;suffoqué;2'] ['230;surpris;2']\n",
      " ['231;titubant;2'] ['232;tomber des nues;2'] ['233;touché;2']\n",
      " ['234;troublé;2'] ['235;vacillant;2'] ['236;vide;2'] ['237;à la noce;3']\n",
      " ['238;admiratif;3'] ['239;allègre;3'] ['240;aller au coeur;3']\n",
      " ['241;altier;3'] ['242;amoureux;3'] ['243;amour;3'] ['244;amusé;3']\n",
      " ['245;animé;3'] ['246;ardent;3'] ['247;attiré;3'] ['248;aux anges;3']\n",
      " ['249;au septième ciel;3'] ['250;béat;3'] ['251;bienheureux;3']\n",
      " ['252;bouillonnant;3'] ['253;bouleversé;3'] ['254;captivé;3']\n",
      " ['255;charmé;3'] ['256;comblé;3'] ['257;content;3'] ['258;curieux;3']\n",
      " ['259;d’humeur allègre;3'] ['260;d’humeur aventureuse;3']\n",
      " ['261;d’humeur câline;3'] ['262;d’humeur badine;3']\n",
      " ['263;d’humeur enjouée;3'] ['264;d’humeur espiègle;3']\n",
      " ['265;d’humeur expansive;3'] ['266;d’humeur exubérante;3']\n",
      " ['267;d’humeur folâtre;3'] ['268;d’humeur guillerette;3']\n",
      " ['269;d’humeur jubilatoire;3'] ['270;d’humeur pétillante;3']\n",
      " ['271;d’humeur rieuse;3'] ['272;d’humeur voluptueuse;3']\n",
      " ['273;dans l’indicible;3'] ['274;dans l’unité;3']\n",
      " ['275;dans la béatitude;3'] ['276;de bonne humeur;3'] ['277;déridé;3']\n",
      " ['278;diverti;3'] ['279;ébloui;3'] ['280;égayé;3'] ['281;électrisé;3']\n",
      " ['282;emballé;3'] ['283;embrasé;3'] ['284;émerveillé;3']\n",
      " ['285;émoustillé;3'] ['286;empressé;3'] ['287;ému;3']\n",
      " ['288;en effervescence;3'] ['289;en expansion;3'] ['290;en extase;3']\n",
      " ['291;en liesse;3'] ['292;en pleine forme;3'] ['293;enchanté;3']\n",
      " ['294;énergétisé;3'] ['295;enflammé;3'] ['296;engoué;3'] ['297;enivré;3']\n",
      " ['298;enjoué;3'] ['299;enlevé;3'] ['300;ensorcelé;3']\n",
      " ['301;enthousiaste;3'] ['302;envoûté;3'] ['303;épanoui;3'] ['304;épaté;3']\n",
      " ['305;éperdu;3'] ['306;éperonné;3'] ['307;épris;3'] ['308;euphorique;3']\n",
      " ['309;exalté;3'] ['310;excité;3'] ['311;extatique;3'] ['312;exultant;3']\n",
      " ['313;fasciné;3'] ['314;fier;3'] ['315;fou de joie;3']\n",
      " ['316;frémissant;3'] ['317;frétillant;3'] ['318;gai;3']\n",
      " ['319;galvanisé;3'] ['320;grisé;3'] ['321;guilleret;3'] ['322;heureux;3']\n",
      " ['323;hilare;3'] ['324;intrigué;3'] ['325;joyeux;3'] ['326;jubilant;3']\n",
      " ['327;nourri;3'] ['328;optimiste;3'] ['329;passionné;3']\n",
      " ['330;pétilant;3'] ['331;pétulant;3'] ['332;plein;3']\n",
      " ['333;plein d’acharnement;3'] ['334;plein d’amour;3']\n",
      " ['335;plein d’ardeur;3'] ['336;plein d’effervescence;3']\n",
      " ['337;plein d’élan;3'] ['338;plein d’émoi;3'] ['339;plein d’entrain;3']\n",
      " ['340;plein d’espoir;3'] ['341;plein d’hardiesse;3']\n",
      " ['342;plein de courage;3'] ['343;plein d’énergie;3']\n",
      " ['344;plein de félicité;3'] ['345;plein de ferveur;3']\n",
      " ['346;plein de feu;3'] ['347;plein de fièvre;3'] ['348;plein de fougue;3']\n",
      " ['349;plein de gratitude;3'] ['350;plein de hâte;3']\n",
      " ['351;plein de liesse;3'] ['352;plein de pétulance;3']\n",
      " ['353;plein de ténacité;3'] ['354;plein de vénération;3']\n",
      " ['355;plein de vertige;3'] ['356;plein de vie;3']\n",
      " ['357;plein de vivacité;3'] ['358;plein de zèle;3'] ['359;prendre feu;3']\n",
      " ['360;radieux;3'] ['361;ravi;3'] ['362;ravigoté;3'] ['363;rayonnant;3']\n",
      " ['364;réjoui;3'] ['365;remonté;3'] ['366;rempli de bonheur;3']\n",
      " ['367;riant;3'] ['368;satisfait;3'] ['369;se fendre la gueule;3']\n",
      " ['370;séduit;3'] ['371;stimulé;3'] ['372;submergé de joie;3']\n",
      " ['373;surexcité;3'] ['374;survolté;3'] ['375;tenté;3'] ['376;titillé;3']\n",
      " ['377;tonifié;3'] ['378;touché;3'] ['379;transi;3'] ['380;transporté;3']\n",
      " ['381;troublé;3'] ['382;vibrant;3'] ['383;vif;3'] ['384;vivant;3']\n",
      " ['385;vivifié;3'] ['386;à bout;4'] ['387;abattu;4'] ['388;accablé;4']\n",
      " ['389;affecté;4'] ['390;affligé;4'] ['391;anesthésié;4'] ['392;assommé;4']\n",
      " ['393;atteint;4'] ['394;atterré;4'] ['395;attristé;4']\n",
      " ['396;avoir de la peine;4'] ['397;avoir du vague à l’âme;4']\n",
      " ['398;avoir le bourdon;4'] ['399;avoir le cafard;4']\n",
      " ['400;avoir le coeur brisé;4'] ['401;avoir le cœur gros;4']\n",
      " ['402;avoir le cœur lourd;4'] ['403;avoir le cœur percé;4']\n",
      " ['404;avoir le coeur serré;4'] ['405;avoir quelque chose sur le;4']\n",
      " ['406;coeur;4'] ['407;baisser les bras;4'] ['408;battre sa coulpe;4']\n",
      " ['409;bouleversé;4'] ['410;broyer du noir;4'] ['411;cafardeux;4']\n",
      " ['412;chagriné;4'] ['413;chaviré;4'] ['414;comme une âme en peine;4']\n",
      " ['415;confondu;4'] ['416;consterné;4'] ['417;contrarié;4']\n",
      " ['418;contristé;4'] ['419;contrit;4'] ['420;coupable;4']\n",
      " ['421;d’humeur chagrine;4'] ['422;d’humeur noire;4']\n",
      " ['423;dans tous ses états;4'] ['424;de mauvaise humeur;4']\n",
      " ['425;déchiré;4'] ['426;déconfit;4'] ['427;découragé;4'] ['428;déçu;4']\n",
      " ['429;défait;4'] ['430;dégrisé;4'] ['431;démoralisé;4'] ['432;démotivé;4']\n",
      " ['433;dépité;4'] ['434;déprimé;4'] ['435;désabusé;4']\n",
      " ['436;désappointé;4'] ['437;désespéré;4'] ['438;désenchanté;4']\n",
      " ['439;désillusionné;4'] ['440;désolé;4'] ['441;ébranlé;4']\n",
      " ['442;embêté;4'] ['443;ému;4'] ['444;en avoir gros sur le coeur;4']\n",
      " ['445;en avoir sec;4'] ['446;en désarroi;4'] ['447;en détresse;4']\n",
      " ['448;en manque;4'] ['449;ennuyé;4'] ['450;éploré;4'] ['451;éteint;4']\n",
      " ['452;étiolé;4'] ['453;étourdi;4'] ['454;fendre le coeur;4']\n",
      " ['455;frappé;4'] ['456;honteux;4'] ['457;inconfortable;4']\n",
      " ['458;insatisfait;4'] ['459;lourd;4'] ['460;lugubre;4']\n",
      " ['461;mal à l’aise;4'] ['462;malheureux;4'] ['463;maussade;4']\n",
      " ['464;mécontent;4'] ['465;mélancolique;4']\n",
      " ['466;mi-figue', ' mi-raisin;4'] ['467;misérable;4'] ['468;morne;4']\n",
      " ['469;morose;4'] ['470;mortifié;4'] ['471;navré;4']\n",
      " ['472;ne pas en mener large;4'] ['473;neurasthénique;4']\n",
      " ['474;nostalgique;4'] ['475;paumé;4'] ['476;peiné;4'] ['477;penaud;4']\n",
      " ['478;perturbé;4'] ['479;pessimiste;4'] ['480;plein de regret;4']\n",
      " ['481;plombé;4'] ['482;plus mort que vif;4'] ['483;préoccupé;4']\n",
      " ['484;prostré;4'] ['485;réduit au désespoir;4'] ['486;rembruni;4']\n",
      " ['487;repentant;4'] ['488;résigné;4'] ['489;saisi;4'] ['490;sans élan;4']\n",
      " ['491;sans entrain;4'] ['492;secoué;4'] ['493;sombre;4']\n",
      " ['494;soucieux;4'] ['495;submergé;4'] ['496;surmené;4'] ['497;terrassé;4']\n",
      " ['498;tourmenté;4'] ['499;tracassé;4'] ['500;traumatisé;4']\n",
      " ['501;triste;4'] ['502;troublé;4'] ['503;vaseux;4']\n",
      " ['504;avoir le coeur au bord des;5'] ['505;lèvres;5']\n",
      " ['506;avoir le coeur dans la;5'] ['507;gorge;5'] ['508;dégoûté;5']\n",
      " ['509;écoeuré;5'] ['510;plein de répugnance;5'] ['511;rebuté;5']\n",
      " ['512;rempli de répulsion;5'] ['513;révulsé;5']\n",
      " ['514;soulever le coeur;5'] ['515;à bout;6'] ['516;à cran;6']\n",
      " ['517;à crin;6'] ['518;acariâtre;6'] ['519;acerbe;6']\n",
      " ['520;acrimonieux;6'] ['521;agacé;6'] ['522;agité;6'] ['523;amer;6']\n",
      " ['524;asticoté;6'] ['525;atrabilaire;6']\n",
      " ['526;avoir les nerfs à fleur de;6'] ['527;peau;6']\n",
      " ['528;avoir les nerfs en boule;6'] ['529;avoir les nerfs en pelote;6']\n",
      " ['530;avoir un coup de sang;6'] ['531;avoir quelque chose sur le;6']\n",
      " ['532;coeur;6'] ['533;blessé;6'] ['534;bouillonnant;6'] ['535;choqué;6']\n",
      " ['536;coléreux;6'] ['537;colére;6'] ['538;contracté;6']\n",
      " ['539;contrarié;6'] ['540;courir sur le haricot;6'] ['541;courroucé;6']\n",
      " ['542;crispé;6'] ['543;d’humeur acariâtre;6'] ['544;d’humeur bougonne;6']\n",
      " ['545;d’humeur bourrue;6'] ['546;d’humeur hostile;6']\n",
      " ['547;d’humeur massacrante;6'] ['548;d’humeur noire;6']\n",
      " ['549;d’humeur querelleuse;6'] ['550;d’humeur réprobatrice;6']\n",
      " ['551;d’humeur revêche;6'] ['552;d’humeur ronchonneuse;6']\n",
      " ['553;dans des transes;6'] ['554;dans tous ses états;6']\n",
      " ['555;décharger sa bile;6'] ['556;dédaigneux;6'] ['557;défiant;6']\n",
      " ['558;dérangé;6'] ['559;devenir chèvre;6'] ['560;échauffé;6']\n",
      " ['561;emporté;6'] ['562;en avoir assez;6'] ['563;en avoir marre;6']\n",
      " ['564;en avoir par dessus la tête;6'] ['565;en avoir plein le dos;6']\n",
      " ['566;en avoir ras le bol;6'] ['567;en avoir sa claque;6']\n",
      " ['568;en colère;6'] ['569;en pétard;6'] ['570;en rogne;6']\n",
      " ['571;écoeuré;6'] ['572;énervé;6'] ['573;entêté;6'] ['574;envieux;6']\n",
      " ['575;éperdu;6'] ['576;éperonné;6'] ['577;être à bout de nerf;6']\n",
      " ['578;exalté;6'] ['579;exaspéré;6'] ['580;excédé;6'] ['581;excité;6']\n",
      " ['582;fâché;6'] ['583;faire endêver;6'] ['584;faire tourner les sangs;6']\n",
      " ['585;froissé;6'] ['586;frustré;6'] ['587;garder rancune;6']\n",
      " ['588;grincheux;6'] ['589;grognon;6'] ['590;haineux;6'] ['591;hargneux;6']\n",
      " ['592;hérissé;6'] ['593;heurté;6'] ['594;horripilé;6']\n",
      " ['595;hors de ses gonds;6'] ['596;impatient;6'] ['597;indigné;6']\n",
      " ['598;irascible;6'] ['599;irrité;6'] ['600;jaloux;6']\n",
      " ['601;mal disposé;6'] ['602;marri;6'] ['603;mécontent;6']\n",
      " ['604;méfiant;6'] ['605;morose;6'] ['606;nerveux;6'] ['607;offusqué;6']\n",
      " ['608;ombrageux;6'] ['609;outré;6'] ['610;piqué au vif;6']\n",
      " ['611;piteux;6'] ['612;plein d’acharnement;6'] ['613;plein d’aigreur;6']\n",
      " ['614;plein d’animosité;6'] ['615;plein d’aversion;6']\n",
      " ['616;plein d’exécration;6'] ['617;plein d’ire;6'] ['618;plein de bile;6']\n",
      " ['619;plein de fiel;6'] ['620;plein de fièvre;6']\n",
      " ['621;plein de frénésie;6'] ['622;plein de hâte;6']\n",
      " ['623;plein de rancœur;6'] ['624;plein de rancune;6']\n",
      " ['625;plein de récrimination;6'] ['626;plein de réprobation;6']\n",
      " ['627;plein de ressentiment;6'] ['628;plein de véhémence;6']\n",
      " ['629;porter sur les nerfs;6'] ['630;prendre feu;6']\n",
      " ['631;prendre la mouche;6'] ['632;prendre ombrage;6'] ['633;rebêqué;6']\n",
      " ['634;rebuté;6'] ['635;refroidi;6'] ['636;rembruni;6'] ['637;remonté;6']\n",
      " ['638;renfermé;6'] ['639;rétif;6'] ['640;révolté;6']\n",
      " ['641;s’échauffer la bile;6'] ['642;scandalisé;6']\n",
      " ['643;se foutre en bombe;6'] ['644;se mettre en boule;6'] ['645;sombre;6']\n",
      " ['646;soupçonneux;6'] ['647;sur les nerfs;6'] ['648;surexcité;6']\n",
      " ['649;survolté;6'] ['650;susceptible;6'] ['651;suspicieux;6']\n",
      " ['652;taper sur les nerfs;6'] ['653;tendu;6'] ['654;titillé;6']\n",
      " ['655;tourmenté;6'] ['656;tracassé;6'] ['657;transi;6'] ['658;ulcéré;6']\n",
      " ['659;vexé;6'] ['660;enragé;7'] ['661;fou furieux;7'] ['662;furax;7']\n",
      " ['663;furibond;7'] ['664;furieux;7'] ['665;hors de soi;7']\n",
      " ['666;ivre de rage;7'] ['667;poussé à bout;7'] ['668;affolé;8']\n",
      " ['669;alarmé;8'] ['670;anesthésié;8'] ['671;angoissé;8'] ['672;anxieux;8']\n",
      " ['673;apeuré;8'] ['674;aux abois;8'] ['675;aux cent coups;8']\n",
      " ['676;avide;8'] ['677;avoir des sueurs froides;8']\n",
      " ['678;avoir la frousse;8'] ['679;avoir la hantisse;8']\n",
      " ['680;avoir la pétoche;8'] ['681;avoir la trouille;8']\n",
      " ['682;avoir les foies;8'] ['683;avoir les grelots;8']\n",
      " ['684;avoir les jetons;8'] ['685;blindé;8'] ['686;bloqué;8']\n",
      " ['687;chaviré;8'] ['688;circonspect;8'] ['689;coupable;8']\n",
      " ['690;craintif;8'] ['691;dans des affres;8'] ['692;dans des transes;8']\n",
      " ['693;déchiré;8'] ['694;effarouché;8'] ['695;effrayé;8']\n",
      " ['696;embarrassé;8'] ['697;en alerte;8'] ['698;en désarroi;8']\n",
      " ['699;en détresse;8'] ['700;envieux;8'] ['701;faire tourner les sangs;8']\n",
      " ['702;fébrile;8'] ['703;gêné;8'] ['704;hérissé;8'] ['705;impatient;8']\n",
      " ['706;incrédule;8'] ['707;inquiet;8'] ['708;intimidé;8'] ['709;jaloux;8']\n",
      " ['710;mal à l’aise;8'] ['711;mal assuré;8'] ['712;méfiant;8']\n",
      " ['713;pantelant;8'] ['714;pessimiste;8'] ['715;plein d’appréhension;8']\n",
      " ['716;plein de convoitise;8'] ['717;plein de hâte;8']\n",
      " ['718;plein de pudeur;8'] ['719;plein de trac;8']\n",
      " ['720;plus mort que vif;8'] ['721;préoccupé;8'] ['722;prudent;8']\n",
      " ['723;réservé;8'] ['724;réticent;8'] ['725;sceptique;8']\n",
      " ['726;se faire de la bile;8'] ['727;se faire du mauvais sang;8']\n",
      " ['728;se faire du mouron;8'] ['729;se faire un sang d’encre;8']\n",
      " ['730;se retourner les sangs;8'] ['731;se ronger les moelles;8']\n",
      " ['732;se ronger les poings;8'] ['733;se ronger les sangs;8']\n",
      " ['734;soucieux;8'] ['735;soupçonneux;8'] ['736;sur des braises;8']\n",
      " ['737;sur des charbons ardents;8'] ['738;sur la défensive;8']\n",
      " ['739;sur la réserve;8'] ['740;sur le qui-vive;8']\n",
      " ['741;sur ses gardes;8'] ['742;suspicieux;8'] ['743;timoré;8']\n",
      " ['744;tomber de haut;8'] ['745;transi;8'] ['746;traumatisé;8']\n",
      " ['747;tremblant;8'] ['748;trémulant;8'] ['749;vulnérable;8']\n",
      " ['750;épouvanté;9'] ['751;glacé de peur;9'] ['752;horrifié;9']\n",
      " ['753;paniqué;9'] ['754;plein d’effroi;9'] ['755;plein de frousse;9']\n",
      " ['756;terrifié;9'] ['757;terrorisé;9'] ['758;traumatisé;9']\n",
      " ['759;à plat;10'] ['760;abattu;10'] ['761;abruti;10'] ['762;absent;10']\n",
      " ['763;accablé;10'] ['764;affaibli;10'] ['765;alangui;10']\n",
      " ['766;amoindri;10'] ['767;anesthésié;10'] ['768;apathique;10']\n",
      " ['769;appesanti;10'] ['770;assourdi;10'] ['771;atone;10']\n",
      " ['772;au bout du rouleau;10'] ['773;baisser les bras;10']\n",
      " ['774;ballotté;10'] ['775;blasé;10'] ['776;bloqué;10'] ['777;chaviré;10']\n",
      " ['778;claqué;10'] ['779;confus;10'] ['780;coupé;10'] ['781;crevé;10']\n",
      " ['782;dans tous ses états;10'] ['783;débordé;10'] ['784;déchiré;10']\n",
      " ['785;déconnecté;10'] ['786;démobilisé;10'] ['787;démonté;10']\n",
      " ['788;démuni;10'] ['789;dépassé;10'] ['790;dépourvu;10']\n",
      " ['791;déprimé;10'] ['792;déréglé;10'] ['793;désarmé;10']\n",
      " ['794;désespéré;10'] ['795;désoeuvré;10'] ['796;détraqué;10']\n",
      " ['797;diminué;10'] ['798;distant;10'] ['799;distrait;10']\n",
      " ['800;divisé;10'] ['801;ébranlé;10'] ['802;écartelé;10']\n",
      " ['803;effondré;10'] ['804;embarrassé;10'] ['805;embrouillé;10']\n",
      " ['806;emmêlé;10'] ['807;en retrait;10'] ['808;en suspens;10']\n",
      " ['809;endormi;10'] ['810;engourdi;10'] ['811;ennuyé;10']\n",
      " ['812;éprouvé;10'] ['813;épuisé;10'] ['814;éreinté;10']\n",
      " ['815;essouflé;10'] ['816;éteint;10'] ['817;étiolé;10'] ['818;exténué;10']\n",
      " ['819;fatigué;10'] ['820;flageolant;10'] ['821;flapi;10']\n",
      " ['822;fourbu;10'] ['823;harassé;10'] ['824;hésitant;10']\n",
      " ['825;impuissant;10'] ['826;inattentif;10'] ['827;incertain;10']\n",
      " ['828;incommodé;10'] ['829;inconfortable;10'] ['830;indécis;10']\n",
      " ['831;indéterminé;10'] ['832;indifférent;10'] ['833;indolent;10']\n",
      " ['834;inerte;10'] ['835;insensibilisé;10'] ['836;instable;10']\n",
      " ['837;intimidé;10'] ['838;irrésolu;10'] ['839;K.-O.;10']\n",
      " ['840;languissant;10'] ['841;las;10'] ['842;lassé;10']\n",
      " ['843;léthargique;10'] ['844;lourd;10'] ['845;mal à l’aise;10']\n",
      " ['846;mal assuré;10'] ['847;moulu;10'] ['848;n’en pouvoir plus;10']\n",
      " ['849;ne pas savoir sur quel;10'] ['850;pied danser;10']\n",
      " ['851;pantelant;10'] ['852;partagé;10'] ['853;paumé;10'] ['854;pensif;10']\n",
      " ['855;perdre la boussole;10'] ['856;perdre pied;10'] ['857;perdu;10']\n",
      " ['858;perplexe;10'] ['859;perturbé;10'] ['860;piteux;10']\n",
      " ['861;plein d’atermoiement;10'] ['862;plein de doute;10']\n",
      " ['863;plein de scrupules;10'] ['864;plein de tergiversation;10']\n",
      " ['865;plein de torpeur;10'] ['866;plus mort que vif;10']\n",
      " ['867;ramolli;10'] ['868;recru;10'] ['869;rendu;10'] ['870;résigné;10']\n",
      " ['871;rêveur;10'] ['872;rompu;10'] ['873;roué de fatigue;10']\n",
      " ['874;sans élan;10'] ['875;sans entrain;10'] ['876;saturé;10']\n",
      " ['877;seul;10'] ['878;somnolent;10'] ['879;souffrant;10'] ['880;soûlé;10']\n",
      " ['881;sous pression;10'] ['882;submergé;10'] ['883;sur la retenue;10']\n",
      " ['884;sur les dents;10'] ['885;surmené;10'] ['886;tanné;10']\n",
      " ['887;terrassé;10'] ['888;tiède;10'] ['889;timide;10'] ['890;tiraillé;10']\n",
      " ['891;usé;10'] ['892;vanné;10'] ['893;vaseux;10'] ['894;vidé;10']\n",
      " ['895;vulnérable;10'] ['896;joie;3'] ['897;joie de vivre;3']]\n"
     ]
    }
   ],
   "source": [
    "import csv as csv \n",
    "import numpy as np\n",
    "\n",
    "# Open up the csv file in to a Python object\n",
    "data_all = []\n",
    "with open('motEmo.csv',encoding=\"utf8\") as train_file:\n",
    "    csv_reader = csv.reader(train_file, delimiter=',', quotechar='\"')\n",
    "    for row in csv_reader:\n",
    "        data_all.append(row)\n",
    "data_all = np.array(data_all)\n",
    "data = data_all[1::]\n",
    "\n",
    "print(data)"
   ]
  },
  {
   "cell_type": "code",
   "execution_count": 13,
   "metadata": {
    "collapsed": false
   },
   "outputs": [],
   "source": [
    "import pandas as pd\n",
    "#importation des fichiers CSV\n",
    "dfMotEmo = pd.read_csv('motEmo.csv',encoding=\"utf-8-sig\",delimiter=\";\",header=0)\n",
    "dfEmoCat = pd.read_csv('emoCat.csv',encoding=\"utf-8-sig\",delimiter=\";\",header=0)"
   ]
  },
  {
   "cell_type": "code",
   "execution_count": 14,
   "metadata": {
    "collapsed": false
   },
   "outputs": [
    {
     "data": {
      "text/html": [
       "<div>\n",
       "<table border=\"1\" class=\"dataframe\">\n",
       "  <thead>\n",
       "    <tr style=\"text-align: right;\">\n",
       "      <th></th>\n",
       "      <th>emotion</th>\n",
       "      <th>categorie</th>\n",
       "    </tr>\n",
       "  </thead>\n",
       "  <tbody>\n",
       "    <tr>\n",
       "      <th>0</th>\n",
       "      <td>tranquilité</td>\n",
       "      <td>1</td>\n",
       "    </tr>\n",
       "    <tr>\n",
       "      <th>1</th>\n",
       "      <td>Surprise</td>\n",
       "      <td>2</td>\n",
       "    </tr>\n",
       "    <tr>\n",
       "      <th>2</th>\n",
       "      <td>Joie</td>\n",
       "      <td>3</td>\n",
       "    </tr>\n",
       "    <tr>\n",
       "      <th>3</th>\n",
       "      <td>Tristesse</td>\n",
       "      <td>4</td>\n",
       "    </tr>\n",
       "    <tr>\n",
       "      <th>4</th>\n",
       "      <td>Dégoût</td>\n",
       "      <td>5</td>\n",
       "    </tr>\n",
       "    <tr>\n",
       "      <th>5</th>\n",
       "      <td>Colère</td>\n",
       "      <td>6</td>\n",
       "    </tr>\n",
       "    <tr>\n",
       "      <th>6</th>\n",
       "      <td>Fureur</td>\n",
       "      <td>7</td>\n",
       "    </tr>\n",
       "    <tr>\n",
       "      <th>7</th>\n",
       "      <td>Peur</td>\n",
       "      <td>8</td>\n",
       "    </tr>\n",
       "    <tr>\n",
       "      <th>8</th>\n",
       "      <td>Terreur</td>\n",
       "      <td>9</td>\n",
       "    </tr>\n",
       "    <tr>\n",
       "      <th>9</th>\n",
       "      <td>Coupure avec ses émotions</td>\n",
       "      <td>10</td>\n",
       "    </tr>\n",
       "  </tbody>\n",
       "</table>\n",
       "</div>"
      ],
      "text/plain": [
       "                     emotion  categorie\n",
       "0                tranquilité          1\n",
       "1                   Surprise          2\n",
       "2                       Joie          3\n",
       "3                  Tristesse          4\n",
       "4                     Dégoût          5\n",
       "5                     Colère          6\n",
       "6                     Fureur          7\n",
       "7                       Peur          8\n",
       "8                    Terreur          9\n",
       "9  Coupure avec ses émotions         10"
      ]
     },
     "execution_count": 14,
     "metadata": {},
     "output_type": "execute_result"
    }
   ],
   "source": [
    "dfEmoCat"
   ]
  },
  {
   "cell_type": "code",
   "execution_count": 15,
   "metadata": {
    "collapsed": false
   },
   "outputs": [
    {
     "data": {
      "text/plain": [
       "571    6\n",
       "Name: categorie, dtype: int64"
      ]
     },
     "execution_count": 15,
     "metadata": {},
     "output_type": "execute_result"
    }
   ],
   "source": [
    "dfMotEmo[dfMotEmo['expression']=='énervé']['categorie']"
   ]
  },
  {
   "cell_type": "code",
   "execution_count": 16,
   "metadata": {
    "collapsed": false
   },
   "outputs": [
    {
     "name": "stderr",
     "output_type": "stream",
     "text": [
      "C:\\Users\\Romain\\Anaconda3\\lib\\site-packages\\sklearn\\utils\\validation.py:515: DataConversionWarning: A column-vector y was passed when a 1d array was expected. Please change the shape of y to (n_samples, ), for example using ravel().\n",
      "  y = column_or_1d(y, warn=True)\n"
     ]
    },
    {
     "data": {
      "text/plain": [
       "LogisticRegression(C=100000.0, class_weight=None, dual=False,\n",
       "          fit_intercept=True, intercept_scaling=1, max_iter=100,\n",
       "          multi_class='ovr', n_jobs=1, penalty='l2', random_state=None,\n",
       "          solver='liblinear', tol=0.0001, verbose=0, warm_start=False)"
      ]
     },
     "execution_count": 16,
     "metadata": {},
     "output_type": "execute_result"
    }
   ],
   "source": [
    "import numpy as np\n",
    "import matplotlib.pyplot as plt\n",
    "from sklearn import linear_model, datasets\n",
    "\n",
    "logreg = linear_model.LogisticRegression(C=1e5)\n",
    "\n",
    "data_X_train=dfMotEmo['id'].to_frame()\n",
    "data_y_train=dfMotEmo['categorie'].to_frame()\n",
    "\n",
    "#data_X_train=dfEmoCat['categorie'].to_frame()\n",
    "#data_y_train=dfEmoCat['emotion'].to_frame()\n",
    "\n",
    "logreg.fit(data_X_train, data_y_train)"
   ]
  },
  {
   "cell_type": "code",
   "execution_count": 17,
   "metadata": {
    "collapsed": false
   },
   "outputs": [
    {
     "name": "stdout",
     "output_type": "stream",
     "text": [
      "[6]\n"
     ]
    }
   ],
   "source": [
    "print(logreg.predict(518))"
   ]
  },
  {
   "cell_type": "code",
   "execution_count": 18,
   "metadata": {
    "collapsed": false
   },
   "outputs": [
    {
     "name": "stdout",
     "output_type": "stream",
     "text": [
      "17\n"
     ]
    },
    {
     "data": {
      "text/plain": [
       "['je',\n",
       " 'suis',\n",
       " 'énervées',\n",
       " 'par',\n",
       " 'tous',\n",
       " 'ces',\n",
       " 'papiers,',\n",
       " 'il',\n",
       " 'me',\n",
       " 'mets',\n",
       " 'dans',\n",
       " 'tous',\n",
       " 'ses',\n",
       " 'états']"
      ]
     },
     "execution_count": 18,
     "metadata": {},
     "output_type": "execute_result"
    }
   ],
   "source": [
    "phrasetest1=\"je suis énervées par tous ces papiers, il me mets dans tous ses états\"\n",
    "phrasetest2=\"Vous avez tord de croire que la joie de vivre tient principalement aux rapports humains, vous vous trompez. Dieu en a mis dans tout ce qui nous entoure, on en trouve dans chaque détail, chaque petite chose de la vie quotidienne. Pour percevoir ces choses là, il suffirait de changer de point de vue. \"\n",
    "index=phrasetest1.find('par')\n",
    "print(index)\n",
    "phrasetest1.split()\n"
   ]
  },
  {
   "cell_type": "code",
   "execution_count": 19,
   "metadata": {
    "collapsed": false
   },
   "outputs": [
    {
     "data": {
      "text/plain": [
       "'se'"
      ]
     },
     "execution_count": 19,
     "metadata": {},
     "output_type": "execute_result"
    }
   ],
   "source": [
    "from nltk.stem.snowball import FrenchStemmer\n",
    "stemmer = FrenchStemmer()\n",
    "stemmer.stem('ses')"
   ]
  },
  {
   "cell_type": "code",
   "execution_count": null,
   "metadata": {
    "collapsed": false
   },
   "outputs": [
    {
     "name": "stdout",
     "output_type": "stream",
     "text": [
      "tapez 1 pour lancer le test\n",
      "tapez 2 pour ajouter un mot ou une expression associé à une émotion à la base de donnée\n",
      "tapez \"q\" pour quitter l'application\n",
      "tapez la commande:2\n",
      "Entrez l'expression ou le mot : jjjjj\n",
      "table des émotions:\n",
      "tranquilité = 1, Surprise=2, Joie=3, Tristesse=4, Dégoût=5, Colère=6, Fureur=7, Peur=8, Terreur=9, Coupure avec ses émotions=10\n",
      "Entrez le numéro de l'émotion : 3\n",
      "\n",
      "\n",
      "tapez 1 pour lancer le test\n",
      "tapez 2 pour ajouter un mot ou une expression associé à une émotion à la base de donnée\n",
      "tapez \"q\" pour quitter l'application\n",
      "tapez la commande:2\n",
      "Entrez l'expression ou le mot : gg\n",
      "table des émotions:\n",
      "tranquilité = 1, Surprise=2, Joie=3, Tristesse=4, Dégoût=5, Colère=6, Fureur=7, Peur=8, Terreur=9, Coupure avec ses émotions=10\n",
      "Entrez le numéro de l'émotion : 3\n",
      "\n",
      "\n",
      "tapez 1 pour lancer le test\n",
      "tapez 2 pour ajouter un mot ou une expression associé à une émotion à la base de donnée\n",
      "tapez \"q\" pour quitter l'application\n"
     ]
    }
   ],
   "source": [
    "from nltk.stem.snowball import FrenchStemmer\n",
    "\n",
    "#stemming pour du francais\n",
    "stemmer = FrenchStemmer()\n",
    "\n",
    "#nombre de ligne dans la table dfMotEmo\n",
    "compteur=len(dfMotEmo.index)\n",
    "\n",
    "rest=True;\n",
    "while(rest):\n",
    "    print('tapez 1 pour lancer le test')\n",
    "    print('tapez 2 pour ajouter un mot ou une expression associé à une émotion à la base de donnée')\n",
    "    print('tapez \"q\" pour quitter l\\'application')\n",
    "    inp=input('tapez la commande:')\n",
    "    \n",
    "    if inp=='1':\n",
    "        \n",
    "        texte=input(\"Entrez la texte à tester : \");\n",
    "        #texte=phrasetest1\n",
    "        res=[]\n",
    "        #split=phrasetest1.split()\n",
    "        split=texte.split()\n",
    "        for mot in split:\n",
    "            #nettoyage des données: j'enlève les ponctuations\n",
    "            ponctuation['.',',',';',':','!','?',')','(','\\'','\"']\n",
    "            for p in ponctuation:\n",
    "                if mot[0]==p:\n",
    "                    mot=mot[1:]\n",
    "                if mot[-1]==p:\n",
    "                    mot=mot[:-1]\n",
    "            #nettoyage des données: j'enleve les genres sur un mot pour qu'il soit reconnu dans la BDD\n",
    "            if mot[-3:]==\"ées\" or mot[-3:]==\"és\" :\n",
    "                mot=mot[:-3]+\"é\"\n",
    "            if mot[-1:]==\"s\":\n",
    "                mot=mot[:-1]\n",
    "            #recherche dans la table des expression par emotion\n",
    "            for expr in dfMotEmo['expression']:\n",
    "                if stemmer.stem(expr)==stemmer.stem(mot):\n",
    "                    id=dfMotEmo[dfMotEmo['expression']==expr]['id']\n",
    "                    res.append([expr,id])\n",
    "        #si c'est une expression de plusieurs mots\n",
    "        for expr in dfMotEmo['expression']:\n",
    "            if len(expr.split()) > 1:\n",
    "                if texte.find(expr) != -1:\n",
    "                    print(expr)\n",
    "                    cat=dfMotEmo[dfMotEmo['expression']==expr]['id']\n",
    "                    res.append([expr,id])\n",
    "                \n",
    "        print(res)\n",
    "        #prediction pour chaque mot et expression trouvés\n",
    "        tabResultat=[]\n",
    "        for r in res:\n",
    "            cat=logreg.predict(r[1])\n",
    "            print(cat)\n",
    "            print(dfEmoCat[dfEmoCat['categorie']==cat[0]]['emotion'])\n",
    "            tabResultat.append(cat[0])\n",
    "        #compte le nombre d'occurence pour chaque émotions trouvées\n",
    "        print('table des id des émotions trouvées: ',tabResultat)\n",
    "        compte = {}.fromkeys(set(tabResultat),0)\n",
    "        for valeur in tabResultat:\n",
    "            compte[valeur] += 1\n",
    "        #prends l'occurence la plus haute\n",
    "        n1=0\n",
    "        for valeur in tabResultat:\n",
    "            if compte[valeur] > n1:\n",
    "                resu=valeur\n",
    "                n1=compte[valeur]\n",
    "        print('id de l\\'emotion retenu (la plus grande occurence) :', resu)\n",
    "        resu=dfEmoCat[dfEmoCat['categorie']==resu]['emotion'].values\n",
    "        print('---------------RESULTAT----------------')\n",
    "        print(resu[0])\n",
    "        print('---------------RESULTAT----------------')\n",
    "        print('')\n",
    "        print('')\n",
    "        \n",
    "    if inp=='2':\n",
    "            compteur=compteur+1\n",
    "            exprAsave=input(\"Entrez l'expression ou le mot : \");\n",
    "            print('table des émotions:')\n",
    "            print('tranquilité = 1, Surprise=2, Joie=3, Tristesse=4, Dégoût=5, Colère=6, Fureur=7, Peur=8, Terreur=9, Coupure avec ses émotions=10')\n",
    "            catAsave=input(\"Entrez le numéro de l\\'émotion : \");\n",
    "            fields=[compteur,exprAsave,catAsave]\n",
    "            #ouverture du fichier\n",
    "            with open(r'motEmo.csv', 'a',newline=\"\\n\") as f:\n",
    "                writer = csv.writer(f,delimiter=';')\n",
    "                #ajout d'une nouvelle ligne\n",
    "                writer.writerow(fields)\n",
    "            print('')\n",
    "            print('')\n",
    "            \n",
    "            \n",
    "    if inp=='q':\n",
    "        rest=False\n",
    "        print('fin du programme')"
   ]
  },
  {
   "cell_type": "code",
   "execution_count": 71,
   "metadata": {
    "collapsed": false
   },
   "outputs": [
    {
     "name": "stderr",
     "output_type": "stream",
     "text": [
      "C:\\Users\\Romain\\Anaconda3\\lib\\site-packages\\ipykernel\\__main__.py:3: DataConversionWarning: A column-vector y was passed when a 1d array was expected. Please change the shape of y to (n_samples, ), for example using ravel().\n",
      "  app.launch_new_instance()\n"
     ]
    },
    {
     "data": {
      "text/plain": [
       "KNeighborsClassifier(algorithm='auto', leaf_size=30, metric='minkowski',\n",
       "           metric_params=None, n_jobs=1, n_neighbors=5, p=2,\n",
       "           weights='uniform')"
      ]
     },
     "execution_count": 71,
     "metadata": {},
     "output_type": "execute_result"
    }
   ],
   "source": [
    "from sklearn.neighbors import KNeighborsClassifier\n",
    "knn = KNeighborsClassifier()\n",
    "knn.fit(data_X_train, data_y_train) "
   ]
  },
  {
   "cell_type": "code",
   "execution_count": 72,
   "metadata": {
    "collapsed": false
   },
   "outputs": [
    {
     "data": {
      "text/plain": [
       "array([10], dtype=int64)"
      ]
     },
     "execution_count": 72,
     "metadata": {},
     "output_type": "execute_result"
    }
   ],
   "source": [
    "knn.predict(897)"
   ]
  },
  {
   "cell_type": "code",
   "execution_count": 73,
   "metadata": {
    "collapsed": false
   },
   "outputs": [
    {
     "name": "stdout",
     "output_type": "stream",
     "text": [
      "taper la commande:1\n"
     ]
    }
   ],
   "source": [
    "rest=True;\n",
    "while(rest):\n",
    "    inp=input('taper la commande:')\n",
    "    if inp=='1':\n",
    "        rest=False\n"
   ]
  },
  {
   "cell_type": "code",
   "execution_count": 18,
   "metadata": {
    "collapsed": false
   },
   "outputs": [
    {
     "data": {
      "text/plain": [
       "',mot'"
      ]
     },
     "execution_count": 18,
     "metadata": {},
     "output_type": "execute_result"
    }
   ],
   "source": [
    "mot=',mot;'\n",
    "mot[:-1]"
   ]
  },
  {
   "cell_type": "code",
   "execution_count": null,
   "metadata": {
    "collapsed": true
   },
   "outputs": [],
   "source": []
  }
 ],
 "metadata": {
  "anaconda-cloud": {},
  "kernelspec": {
   "display_name": "Python [default]",
   "language": "python",
   "name": "python3"
  },
  "language_info": {
   "codemirror_mode": {
    "name": "ipython",
    "version": 3
   },
   "file_extension": ".py",
   "mimetype": "text/x-python",
   "name": "python",
   "nbconvert_exporter": "python",
   "pygments_lexer": "ipython3",
   "version": "3.5.2"
  }
 },
 "nbformat": 4,
 "nbformat_minor": 1
}
