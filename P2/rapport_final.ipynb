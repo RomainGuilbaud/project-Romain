{
 "cells": [
  {
   "cell_type": "markdown",
   "metadata": {},
   "source": [
    "Porjet P2 (suite du P1)\n",
    "\n",
    "Vous êtes nouvel embauche chez CoolCorp, une startup qui spécialise\n",
    "dans l'analyse des désastres maritimes.  Un nouveau client, White Star\n",
    "Lines, se trouve face à un procès à travers le temps, affaire délicat.\n",
    "Votre chef vous demande, en tant que seul data scientist chez\n",
    "CoolCorp, d'analyser les données `*.csv`.  WSL a déjà engagé un expert\n",
    "pour annoter une partie des données (`test.csv`) avec la survie ou pas\n",
    "des passagers.\n",
    "\n",
    "Le chef comprend que vous êtes nouveau, c'est pourquoi il vous laisse\n",
    "une semaine complète pour cette analyse."
   ]
  },
  {
   "cell_type": "markdown",
   "metadata": {},
   "source": [
    "J'ouvre les fichiers train et test"
   ]
  },
  {
   "cell_type": "code",
   "execution_count": 2,
   "metadata": {
    "collapsed": false
   },
   "outputs": [],
   "source": [
    "import csv as csv \n",
    "import numpy as np\n",
    "import pandas as pd\n",
    "\n",
    "datap = pd.read_csv('train.csv', header=0)\n",
    "testp = pd.read_csv('test.csv', header=0)"
   ]
  },
  {
   "cell_type": "markdown",
   "metadata": {},
   "source": [
    "la ligne de commande suivante détail les premiéres élément de train.csv"
   ]
  },
  {
   "cell_type": "markdown",
   "metadata": {},
   "source": [
    "<b>Nettayage des données</b> \n",
    "\n",
    "Nettayage des données ci-dessous pour permettre des analyses plus poussée et enlevée les données non approprié\n",
    "exemple:\n",
    "    -des valeurs à null.\n",
    "    -des colonnes en type string qui peuvent être numérisé (le sexe par exemple)."
   ]
  },
  {
   "cell_type": "markdown",
   "metadata": {},
   "source": [
    "Nettayage des données: remplacer le sexe par le numerisation en 0 et 1 (booléan)"
   ]
  },
  {
   "cell_type": "code",
   "execution_count": 3,
   "metadata": {
    "collapsed": false
   },
   "outputs": [],
   "source": [
    "# Ajouter une colonne :\n",
    "datap['Gender'] = 4\n",
    "testp['Gender'] = 4\n",
    "\n",
    "# Peut-être avec des valeurs plus intéressantes :\n",
    "datap['Gender'] = datap['Sex'].map( lambda x: x[0].upper() )\n",
    "testp['Gender'] = testp['Sex'].map( lambda x: x[0].upper() )\n",
    "\n",
    "# Ou binaire :\n",
    "datap['Gender'] = datap['Sex'].map( {'female': 0, 'male': 1} ).astype(int)\n",
    "testp['Gender'] = testp['Sex'].map( {'female': 0, 'male': 1} ).astype(int)"
   ]
  },
  {
   "cell_type": "markdown",
   "metadata": {},
   "source": [
    "Nettayage des données: remplacer les ages null par l'age mediane selon le genre et la class."
   ]
  },
  {
   "cell_type": "code",
   "execution_count": 4,
   "metadata": {
    "collapsed": false
   },
   "outputs": [
    {
     "data": {
      "text/plain": [
       "array([[ 41.,  24.,  22.],\n",
       "       [ 42.,  28.,  24.]])"
      ]
     },
     "execution_count": 4,
     "metadata": {},
     "output_type": "execute_result"
    }
   ],
   "source": [
    "#nettoyage de donnée de datap et testp\n",
    "median_ages = np.zeros((2,3))\n",
    "for i in range(0, 2):\n",
    "    for j in range(0, 3):\n",
    "        median_ages[i,j] = datap[(datap['Gender'] == i) & \\\n",
    "                              (datap['Pclass'] == j+1)]['Age'].dropna().median()\n",
    "median_ages\n",
    "\n",
    "median_ages = np.zeros((2,3))\n",
    "for i in range(0, 2):\n",
    "    for j in range(0, 3):\n",
    "        median_ages[i,j] = testp[(testp['Gender'] == i) & \\\n",
    "                              (testp['Pclass'] == j+1)]['Age'].dropna().median()\n",
    "median_ages"
   ]
  },
  {
   "cell_type": "markdown",
   "metadata": {},
   "source": [
    "on ajoute les ages dans la nouvelle colonne AgeFill puis on affiche les dix premiére "
   ]
  },
  {
   "cell_type": "code",
   "execution_count": 5,
   "metadata": {
    "collapsed": false
   },
   "outputs": [],
   "source": [
    "datap['AgeFill'] = datap['Age']\n",
    "testp['AgeFill'] = testp['Age']"
   ]
  },
  {
   "cell_type": "markdown",
   "metadata": {},
   "source": [
    "on ajoute les ages medians dans la nouvelle colonne AgeFill, où les ages sont null. Puis on affiche les dix premiéres modifications"
   ]
  },
  {
   "cell_type": "code",
   "execution_count": 6,
   "metadata": {
    "collapsed": false
   },
   "outputs": [],
   "source": [
    "# Et puis on le rempli :\n",
    "for i in range(0, 2):\n",
    "    for j in range(0, 3):\n",
    "        datap.loc[ (datap.Age.isnull()) & (datap.Gender == i) & \n",
    "                (datap.Pclass == j+1),\\\n",
    "                'AgeFill'] = median_ages[i,j]\n",
    "datap[ datap['Age'].isnull() ][['Gender','Pclass','Age','AgeFill']].head(10)\n",
    "\n",
    "# Et puis on le rempli :\n",
    "for i in range(0, 2):\n",
    "    for j in range(0, 3):\n",
    "        testp.loc[ (testp.Age.isnull()) & (testp.Gender == i) & \n",
    "                (testp.Pclass == j+1),\\\n",
    "                'AgeFill'] = median_ages[i,j]"
   ]
  },
  {
   "cell_type": "markdown",
   "metadata": {},
   "source": [
    "on convertit la colonne en type integer."
   ]
  },
  {
   "cell_type": "code",
   "execution_count": 7,
   "metadata": {
    "collapsed": false
   },
   "outputs": [],
   "source": [
    "datap['AgeIsNull'] = pd.isnull(datap.Age).astype(int)\n",
    "testp['AgeIsNull'] = pd.isnull(testp.Age).astype(int)"
   ]
  },
  {
   "cell_type": "markdown",
   "metadata": {},
   "source": [
    "on crée la colonne FamilySize (taille de la famille) et Age*Class"
   ]
  },
  {
   "cell_type": "code",
   "execution_count": 8,
   "metadata": {
    "collapsed": false
   },
   "outputs": [],
   "source": [
    "# parch is number of parents or children on board.\n",
    "datap['FamilySize'] = datap['SibSp'] + datap['Parch']\n",
    "testp['FamilySize'] = testp['SibSp'] + testp['Parch']\n",
    "\n",
    "# Class affected survival.  Maybe age will, too.\n",
    "# Who knows, maybe the product will be predictive, too.  Let's set it up.\n",
    "datap['Age*Class'] = datap.AgeFill * datap.Pclass\n",
    "testp['Age*Class'] = testp.AgeFill * testp.Pclass"
   ]
  },
  {
   "cell_type": "markdown",
   "metadata": {},
   "source": [
    "ci-dessous, les embarcations S, C et Q deviennent 1, 2, 3 dans une nouvelle colonne\n",
    "Les lignes où il n'y a rien, je leur attibut un \"1\" car ils sont seulement 2 et les embarcation S sont les plus nombreux."
   ]
  },
  {
   "cell_type": "code",
   "execution_count": 9,
   "metadata": {
    "collapsed": false
   },
   "outputs": [
    {
     "data": {
      "text/plain": [
       "1"
      ]
     },
     "execution_count": 9,
     "metadata": {},
     "output_type": "execute_result"
    }
   ],
   "source": [
    "datap['EmbarkedBin'] = datap['Embarked'].map( {'S': 1, 'C': 2, 'Q': 3, None: 1} )\n",
    "datap['EmbarkedBin'][61]"
   ]
  },
  {
   "cell_type": "markdown",
   "metadata": {},
   "source": [
    "essaie regression logistique"
   ]
  },
  {
   "cell_type": "code",
   "execution_count": 10,
   "metadata": {
    "collapsed": false
   },
   "outputs": [
    {
     "ename": "ValueError",
     "evalue": "Can only tuple-index with a MultiIndex",
     "output_type": "error",
     "traceback": [
      "\u001b[0;31m---------------------------------------------------------------------------\u001b[0m",
      "\u001b[0;31mValueError\u001b[0m                                Traceback (most recent call last)",
      "\u001b[0;32m<ipython-input-10-31d2bfccbaf2>\u001b[0m in \u001b[0;36m<module>\u001b[0;34m()\u001b[0m\n\u001b[1;32m      5\u001b[0m \u001b[1;31m# Import some data to play with.\u001b[0m\u001b[1;33m\u001b[0m\u001b[1;33m\u001b[0m\u001b[0m\n\u001b[1;32m      6\u001b[0m \u001b[0miris\u001b[0m \u001b[1;33m=\u001b[0m \u001b[0mdatasets\u001b[0m\u001b[1;33m.\u001b[0m\u001b[0mload_iris\u001b[0m\u001b[1;33m(\u001b[0m\u001b[1;33m)\u001b[0m\u001b[1;33m\u001b[0m\u001b[0m\n\u001b[0;32m----> 7\u001b[0;31m \u001b[0mX\u001b[0m \u001b[1;33m=\u001b[0m \u001b[0mdatap\u001b[0m\u001b[1;33m[\u001b[0m\u001b[0mdatap\u001b[0m\u001b[1;33m[\u001b[0m\u001b[1;34m'Survived'\u001b[0m\u001b[1;33m]\u001b[0m\u001b[1;33m==\u001b[0m\u001b[1;36m1\u001b[0m\u001b[1;33m]\u001b[0m\u001b[1;33m[\u001b[0m\u001b[1;34m'EmbarkedBin'\u001b[0m\u001b[1;33m]\u001b[0m\u001b[1;33m[\u001b[0m\u001b[1;33m:\u001b[0m\u001b[1;33m,\u001b[0m \u001b[1;33m:\u001b[0m\u001b[1;36m2\u001b[0m\u001b[1;33m]\u001b[0m  \u001b[1;31m# we only take the first two features.\u001b[0m\u001b[1;33m\u001b[0m\u001b[0m\n\u001b[0m\u001b[1;32m      8\u001b[0m \u001b[0mY\u001b[0m \u001b[1;33m=\u001b[0m \u001b[0mdatap\u001b[0m\u001b[1;33m[\u001b[0m\u001b[1;34m'Survived'\u001b[0m\u001b[1;33m]\u001b[0m\u001b[1;33m\u001b[0m\u001b[0m\n\u001b[1;32m      9\u001b[0m \u001b[1;33m\u001b[0m\u001b[0m\n",
      "\u001b[0;32mC:\\Users\\romain\\Anaconda3\\lib\\site-packages\\pandas\\core\\series.py\u001b[0m in \u001b[0;36m__getitem__\u001b[0;34m(self, key)\u001b[0m\n\u001b[1;32m    622\u001b[0m             \u001b[0mkey\u001b[0m \u001b[1;33m=\u001b[0m \u001b[0mcheck_bool_indexer\u001b[0m\u001b[1;33m(\u001b[0m\u001b[0mself\u001b[0m\u001b[1;33m.\u001b[0m\u001b[0mindex\u001b[0m\u001b[1;33m,\u001b[0m \u001b[0mkey\u001b[0m\u001b[1;33m)\u001b[0m\u001b[1;33m\u001b[0m\u001b[0m\n\u001b[1;32m    623\u001b[0m \u001b[1;33m\u001b[0m\u001b[0m\n\u001b[0;32m--> 624\u001b[0;31m         \u001b[1;32mreturn\u001b[0m \u001b[0mself\u001b[0m\u001b[1;33m.\u001b[0m\u001b[0m_get_with\u001b[0m\u001b[1;33m(\u001b[0m\u001b[0mkey\u001b[0m\u001b[1;33m)\u001b[0m\u001b[1;33m\u001b[0m\u001b[0m\n\u001b[0m\u001b[1;32m    625\u001b[0m \u001b[1;33m\u001b[0m\u001b[0m\n\u001b[1;32m    626\u001b[0m     \u001b[1;32mdef\u001b[0m \u001b[0m_get_with\u001b[0m\u001b[1;33m(\u001b[0m\u001b[0mself\u001b[0m\u001b[1;33m,\u001b[0m \u001b[0mkey\u001b[0m\u001b[1;33m)\u001b[0m\u001b[1;33m:\u001b[0m\u001b[1;33m\u001b[0m\u001b[0m\n",
      "\u001b[0;32mC:\\Users\\romain\\Anaconda3\\lib\\site-packages\\pandas\\core\\series.py\u001b[0m in \u001b[0;36m_get_with\u001b[0;34m(self, key)\u001b[0m\n\u001b[1;32m    635\u001b[0m             \u001b[1;32mif\u001b[0m \u001b[0misinstance\u001b[0m\u001b[1;33m(\u001b[0m\u001b[0mkey\u001b[0m\u001b[1;33m,\u001b[0m \u001b[0mtuple\u001b[0m\u001b[1;33m)\u001b[0m\u001b[1;33m:\u001b[0m\u001b[1;33m\u001b[0m\u001b[0m\n\u001b[1;32m    636\u001b[0m                 \u001b[1;32mtry\u001b[0m\u001b[1;33m:\u001b[0m\u001b[1;33m\u001b[0m\u001b[0m\n\u001b[0;32m--> 637\u001b[0;31m                     \u001b[1;32mreturn\u001b[0m \u001b[0mself\u001b[0m\u001b[1;33m.\u001b[0m\u001b[0m_get_values_tuple\u001b[0m\u001b[1;33m(\u001b[0m\u001b[0mkey\u001b[0m\u001b[1;33m)\u001b[0m\u001b[1;33m\u001b[0m\u001b[0m\n\u001b[0m\u001b[1;32m    638\u001b[0m                 \u001b[1;32mexcept\u001b[0m\u001b[1;33m:\u001b[0m\u001b[1;33m\u001b[0m\u001b[0m\n\u001b[1;32m    639\u001b[0m                     \u001b[1;32mif\u001b[0m \u001b[0mlen\u001b[0m\u001b[1;33m(\u001b[0m\u001b[0mkey\u001b[0m\u001b[1;33m)\u001b[0m \u001b[1;33m==\u001b[0m \u001b[1;36m1\u001b[0m\u001b[1;33m:\u001b[0m\u001b[1;33m\u001b[0m\u001b[0m\n",
      "\u001b[0;32mC:\\Users\\romain\\Anaconda3\\lib\\site-packages\\pandas\\core\\series.py\u001b[0m in \u001b[0;36m_get_values_tuple\u001b[0;34m(self, key)\u001b[0m\n\u001b[1;32m    680\u001b[0m \u001b[1;33m\u001b[0m\u001b[0m\n\u001b[1;32m    681\u001b[0m         \u001b[1;32mif\u001b[0m \u001b[1;32mnot\u001b[0m \u001b[0misinstance\u001b[0m\u001b[1;33m(\u001b[0m\u001b[0mself\u001b[0m\u001b[1;33m.\u001b[0m\u001b[0mindex\u001b[0m\u001b[1;33m,\u001b[0m \u001b[0mMultiIndex\u001b[0m\u001b[1;33m)\u001b[0m\u001b[1;33m:\u001b[0m\u001b[1;33m\u001b[0m\u001b[0m\n\u001b[0;32m--> 682\u001b[0;31m             \u001b[1;32mraise\u001b[0m \u001b[0mValueError\u001b[0m\u001b[1;33m(\u001b[0m\u001b[1;34m'Can only tuple-index with a MultiIndex'\u001b[0m\u001b[1;33m)\u001b[0m\u001b[1;33m\u001b[0m\u001b[0m\n\u001b[0m\u001b[1;32m    683\u001b[0m \u001b[1;33m\u001b[0m\u001b[0m\n\u001b[1;32m    684\u001b[0m         \u001b[1;31m# If key is contained, would have returned by now\u001b[0m\u001b[1;33m\u001b[0m\u001b[1;33m\u001b[0m\u001b[0m\n",
      "\u001b[0;31mValueError\u001b[0m: Can only tuple-index with a MultiIndex"
     ]
    }
   ],
   "source": [
    "import numpy as np\n",
    "import matplotlib.pyplot as plt\n",
    "from sklearn import linear_model, datasets\n",
    "\n",
    "# Import some data to play with.\n",
    "iris = datasets.load_iris()\n",
    "X = datap[datap['Survived']==1]['EmbarkedBin'][:, :2]  # we only take the first two features.\n",
    "Y = datap['Survived']\n",
    "\n",
    "h = .02  # step size in the mesh\n",
    "\n",
    "logreg = linear_model.LogisticRegression(C=1e5)\n",
    "\n",
    "# We create an instance of Neighbours Classifier and fit the data.\n",
    "logreg.fit(X, Y)\n",
    "\n",
    "# Plot the decision boundary. For that, we will assign a color to each\n",
    "# point in the mesh [x_min, m_max]x[y_min, y_max].\n",
    "x_min, x_max = X[:, 0].min() - .5, X[:, 0].max() + .5\n",
    "y_min, y_max = X[:, 1].min() - .5, X[:, 1].max() + .5\n",
    "xx, yy = np.meshgrid(np.arange(x_min, x_max, h), np.arange(y_min, y_max, h))\n",
    "Z = logreg.predict(np.c_[xx.ravel(), yy.ravel()])\n",
    "\n",
    "# Put the result into a color plot.\n",
    "Z = Z.reshape(xx.shape)\n",
    "plt.figure(1, figsize=(4, 3))\n",
    "plt.pcolormesh(xx, yy, Z, cmap=plt.cm.Paired)\n",
    "\n",
    "# Plot also the training points.\n",
    "plt.scatter(X[:, 0], X[:, 1], c=Y, edgecolors='k', cmap=plt.cm.Paired)\n",
    "plt.xlabel('Sepal length')\n",
    "plt.ylabel('Sepal width')\n",
    "\n",
    "plt.xlim(xx.min(), xx.max())\n",
    "plt.ylim(yy.min(), yy.max())\n",
    "plt.xticks(())\n",
    "plt.yticks(())\n",
    "\n",
    "plt.show()\n"
   ]
  },
  {
   "cell_type": "markdown",
   "metadata": {},
   "source": [
    "<b>Analyse de l'influence de l'age selon le tarif</b> "
   ]
  },
  {
   "cell_type": "markdown",
   "metadata": {},
   "source": [
    "Ici, on affiche un tableau de l'age selon le tarif(fare)"
   ]
  },
  {
   "cell_type": "code",
   "execution_count": null,
   "metadata": {
    "collapsed": false
   },
   "outputs": [],
   "source": [
    "#graphique montrant le tarif selon l'age\n",
    "import matplotlib.pyplot as plt\n",
    "\n",
    "plt.hist(datap[datap['Survived']==1]['EmbarkedBin'], label='total survivant')\n",
    "plt.xlabel('embarcation (1=S, 2=C, 3=Q)')\n",
    "plt.ylabel('Number of people')\n",
    "plt.legend(loc='upper right')\n",
    "plt.axis([0, 4, 0, 450])\n",
    "plt.grid(True)\n",
    "plt.show()\n",
    "\n",
    "plt.hist(datap[datap['Survived']==0]['EmbarkedBin'], label='total non survivant')\n",
    "plt.xlabel('embarcation (1=S, 2=C, 3=Q)')\n",
    "plt.ylabel('Number of people')\n",
    "plt.legend(loc='upper right')\n",
    "plt.axis([0, 4, 0, 450])\n",
    "plt.grid(True)\n",
    "plt.show()\n"
   ]
  },
  {
   "cell_type": "markdown",
   "metadata": {},
   "source": [
    "ici nous avons une visualisation de la regression linaire de l'age par rapport au tarif pour pousser plus loin notre analyse.\n",
    "on récupére les données 'age'(AgeFill) et 'tatif'(Fare) puis on prend un set de chaque. Par la suite nous appelons la fonction fit de l'objet linear Regression. Elle permet de crée un modéle linéaire des données qu'on lui donne. \n",
    "Par la suite nous pouvons afficher divers informations: coefficient, la somme carré des résidus et la variance.\n",
    "Pour finir nous affichons une representation du modéle de linéaire."
   ]
  },
  {
   "cell_type": "code",
   "execution_count": 11,
   "metadata": {
    "collapsed": false
   },
   "outputs": [
    {
     "name": "stdout",
     "output_type": "stream",
     "text": [
      "Coefficients: \n",
      " [[ 0.08047508]]\n",
      "Residual sum of squares: 0.22\n",
      "Variance score: 0.02\n"
     ]
    },
    {
     "data": {
      "image/png": "[encoded data removed]",
      "text/plain": [
       "<matplotlib.figure.Figure at 0x1784ee857b8>"
      ]
     },
     "metadata": {},
     "output_type": "display_data"
    }
   ],
   "source": [
    "import matplotlib.pyplot as plt\n",
    "import numpy as np\n",
    "from sklearn import datasets, linear_model\n",
    "\n",
    "\n",
    "\n",
    "# Split the data into training/testing sets\n",
    "data_X_train = datap['EmbarkedBin'].to_frame()[:-20]\n",
    "data_X_test = datap['EmbarkedBin'].to_frame()[-20:]\n",
    "\n",
    "# Split the targets into training/testing sets\n",
    "data_y_train = datap['Survived'].to_frame()[:-20]\n",
    "data_y_test = datap['Survived'].to_frame()[-20:]\n",
    "\n",
    "# Create linear regression object\n",
    "regr = linear_model.LinearRegression()\n",
    "\n",
    "# Train the model using the training sets\n",
    "regr.fit(data_X_train, data_y_train)\n",
    "\n",
    "# The coefficients\n",
    "print('Coefficients: \\n', regr.coef_)\n",
    "# The mean square error\n",
    "print(\"Residual sum of squares: %.2f\"\n",
    "      % np.mean((regr.predict(data_X_test) - data_y_test) ** 2))\n",
    "# Explained variance score: 1 is perfect prediction\n",
    "print('Variance score: %.2f' % regr.score(data_X_test, data_y_test))\n",
    "\n",
    "# Plot outputs\n",
    "plt.title('embarcation v survivant')\n",
    "plt.scatter(data_X_test, data_y_test,  color='black')\n",
    "plt.plot(data_X_test, regr.predict(data_X_test), color='blue',\n",
    "         linewidth=3)\n",
    "plt.xlabel('embarcation (1=S, 2=C, 3=Q)')\n",
    "plt.ylabel('survivant')\n",
    "plt.xticks(())\n",
    "plt.yticks(())\n",
    "\n",
    "plt.show()"
   ]
  },
  {
   "cell_type": "code",
   "execution_count": 12,
   "metadata": {
    "collapsed": false
   },
   "outputs": [
    {
     "name": "stdout",
     "output_type": "stream",
     "text": [
      "prediction pour embarcation S 0.36\n",
      "prediction pour embarcation C 0.44\n",
      "prediction pour embarcation Q 0.52\n"
     ]
    }
   ],
   "source": [
    "print(u'prediction pour embarcation S {px:.2f}'.format(\n",
    "        px=regr.predict([[1]])[0][0]))\n",
    "print(u'prediction pour embarcation C {px:.2f}'.format(\n",
    "        px=regr.predict([[2]])[0][0]))\n",
    "print(u'prediction pour embarcation Q {px:.2f}'.format(\n",
    "        px=regr.predict([[3]])[0][0]))"
   ]
  },
  {
   "cell_type": "code",
   "execution_count": null,
   "metadata": {
    "collapsed": false
   },
   "outputs": [],
   "source": []
  },
  {
   "cell_type": "markdown",
   "metadata": {},
   "source": [
    "<b>Analyse de l'influence du tarif sur la survit</b> "
   ]
  },
  {
   "cell_type": "markdown",
   "metadata": {},
   "source": [
    "Ici, on affiche un tableau des tarif selon si survivants ou non"
   ]
  },
  {
   "cell_type": "markdown",
   "metadata": {},
   "source": [
    "<b>Analyse de l'influence de l'age selon le tarif en prenant en compte les personnes qui ont survecu</b> "
   ]
  },
  {
   "cell_type": "markdown",
   "metadata": {},
   "source": [
    "ci-dessous, affichage d'un graphique montrant le nombre de femme survivant et d'homme survivant selon l'age"
   ]
  },
  {
   "cell_type": "code",
   "execution_count": 13,
   "metadata": {
    "collapsed": false
   },
   "outputs": [
    {
     "data": {
      "image/png": "[encoded data removed]",
      "text/plain": [
       "<matplotlib.figure.Figure at 0x1784ee9e8d0>"
      ]
     },
     "metadata": {},
     "output_type": "display_data"
    },
    {
     "data": {
      "image/png": "[encoded data removed]",
      "text/plain": [
       "<matplotlib.figure.Figure at 0x1784f823cc0>"
      ]
     },
     "metadata": {},
     "output_type": "display_data"
    },
    {
     "data": {
      "image/png": "[encoded data removed]",
      "text/plain": [
       "<matplotlib.figure.Figure at 0x1784f7e7ef0>"
      ]
     },
     "metadata": {},
     "output_type": "display_data"
    }
   ],
   "source": [
    "from matplotlib import pyplot\n",
    "\n",
    "pyplot.hist(datap[(datap['EmbarkedBin']==1) & (datap['Sex']=='male')]['AgeFill'], label='total homme embarcation S')\n",
    "pyplot.hist(datap[(datap['EmbarkedBin']==1) & (datap['Sex']=='female')]['AgeFill'], label='total femme embarcation S')\n",
    "pyplot.xlabel('AgeFill')\n",
    "pyplot.ylabel('Number of people')\n",
    "pyplot.legend(loc='upper right')\n",
    "pyplot.grid(True)\n",
    "pyplot.show()\n",
    "pyplot.hist(datap[(datap['EmbarkedBin']==2) & (datap['Sex']=='male')]['AgeFill'], label='total homme embarcation C')\n",
    "pyplot.hist(datap[(datap['EmbarkedBin']==2) & (datap['Sex']=='female')]['AgeFill'], label='total femme embarcation C')\n",
    "pyplot.xlabel('AgeFill')\n",
    "pyplot.ylabel('Number of people')\n",
    "pyplot.legend(loc='upper right')\n",
    "pyplot.grid(True)\n",
    "pyplot.show()\n",
    "pyplot.hist(datap[(datap['EmbarkedBin']==3) & (datap['Sex']=='male')]['AgeFill'], label='total homme embarcation Q')\n",
    "pyplot.hist(datap[(datap['EmbarkedBin']==3) & (datap['Sex']=='female')]['AgeFill'], label='total femme embarcation Q')\n",
    "pyplot.xlabel('AgeFill')\n",
    "pyplot.ylabel('Number of people')\n",
    "pyplot.legend(loc='upper right')\n",
    "pyplot.grid(True)\n",
    "pyplot.show()"
   ]
  },
  {
   "cell_type": "markdown",
   "metadata": {
    "collapsed": true
   },
   "source": [
    "Grâce à ces graphiques, on peut voir qu'il y a une proportion plus égale entre homme et femme, pour les personnes qui ont embarqué par le pont C et Q. Cela verifie que c'est bien les femmes qui ont influencé sur le taux de survit sur chaque pont (en principe, les femmes sont sauvé avant les hommes).\n",
    "A l'inversement, les hommes sont beucoup plus que les femmes pour avoir embarqué sur le pont S. Cela prouve aussi le taux de survit plus en baisse par rapport au autres ponts."
   ]
  },
  {
   "cell_type": "markdown",
   "metadata": {
    "collapsed": true
   },
   "source": [
    "Analyse survivant selon la classe prise"
   ]
  },
  {
   "cell_type": "code",
   "execution_count": 14,
   "metadata": {
    "collapsed": false
   },
   "outputs": [
    {
     "name": "stdout",
     "output_type": "stream",
     "text": [
      "Coefficients: \n",
      " [[-0.19321813]]\n",
      "Residual sum of squares: 0.16\n",
      "Variance score: 0.31\n"
     ]
    },
    {
     "data": {
      "image/png": "[encoded data removed]",
      "text/plain": [
       "<matplotlib.figure.Figure at 0x1784f7516d8>"
      ]
     },
     "metadata": {},
     "output_type": "display_data"
    }
   ],
   "source": [
    "import matplotlib.pyplot as plt\n",
    "import numpy as np\n",
    "from sklearn import datasets, linear_model\n",
    "\n",
    "\n",
    "\n",
    "# Split the data into training/testing sets\n",
    "data_X_train = datap['Pclass'].to_frame()[:-20]\n",
    "data_X_test = datap['Pclass'].to_frame()[-20:]\n",
    "\n",
    "# Split the targets into training/testing sets\n",
    "data_y_train = datap['Survived'].to_frame()[:-20]\n",
    "data_y_test = datap['Survived'].to_frame()[-20:]\n",
    "\n",
    "# Create linear regression object\n",
    "regr = linear_model.LinearRegression()\n",
    "\n",
    "# Train the model using the training sets\n",
    "regr.fit(data_X_train, data_y_train)\n",
    "\n",
    "# The coefficients\n",
    "print('Coefficients: \\n', regr.coef_)\n",
    "# The mean square error\n",
    "print(\"Residual sum of squares: %.2f\"\n",
    "      % np.mean((regr.predict(data_X_test) - data_y_test) ** 2))\n",
    "# Explained variance score: 1 is perfect prediction\n",
    "print('Variance score: %.2f' % regr.score(data_X_test, data_y_test))\n",
    "\n",
    "# Plot outputs\n",
    "plt.title('Pclass v survivant')\n",
    "plt.scatter(data_X_test, data_y_test,  color='black')\n",
    "plt.plot(data_X_test, regr.predict(data_X_test), color='blue',\n",
    "         linewidth=3)\n",
    "plt.xlabel('Pclass (1,2,3)')\n",
    "plt.ylabel('survivant')\n",
    "plt.xticks(())\n",
    "plt.yticks(())\n",
    "\n",
    "plt.show()"
   ]
  },
  {
   "cell_type": "markdown",
   "metadata": {},
   "source": [
    "Grâce au graphique on peut clairement voir que plus on a un classe d'élite, plus la chance de survit augmente. Dans le cas contraire plus notre classe est faible, la chance de survit est faible.\n",
    "ci-dessous des prediction par Pclass:"
   ]
  },
  {
   "cell_type": "code",
   "execution_count": 15,
   "metadata": {
    "collapsed": false
   },
   "outputs": [
    {
     "name": "stdout",
     "output_type": "stream",
     "text": [
      "prediction pour 1ére classe 0.64\n",
      "prediction pour 2éme classe 0.44\n",
      "prediction pour 3éme classe 0.25\n"
     ]
    }
   ],
   "source": [
    "print(u'prediction pour 1ére classe {px:.2f}'.format(\n",
    "        px=regr.predict([[1]])[0][0]))\n",
    "print(u'prediction pour 2éme classe {px:.2f}'.format(\n",
    "        px=regr.predict([[2]])[0][0]))\n",
    "print(u'prediction pour 3éme classe {px:.2f}'.format(\n",
    "        px=regr.predict([[3]])[0][0]))"
   ]
  },
  {
   "cell_type": "markdown",
   "metadata": {},
   "source": [
    "Allons plus loin et faisons une distinction homme/femme"
   ]
  },
  {
   "cell_type": "code",
   "execution_count": 16,
   "metadata": {
    "collapsed": false
   },
   "outputs": [
    {
     "name": "stdout",
     "output_type": "stream",
     "text": [
      "Coefficients: \n",
      " [[-0.10393603]]\n",
      "Residual sum of squares: 0.11\n",
      "Variance score: 0.11\n"
     ]
    },
    {
     "data": {
      "image/png": "[encoded data removed]",
      "text/plain": [
       "<matplotlib.figure.Figure at 0x1784eeacb70>"
      ]
     },
     "metadata": {},
     "output_type": "display_data"
    },
    {
     "name": "stdout",
     "output_type": "stream",
     "text": [
      "prediction pour 1ére classe 0.33\n",
      "prediction pour 2éme classe 0.23\n",
      "prediction pour 3éme classe 0.13\n",
      "Coefficients: \n",
      " [[-0.23972071]]\n",
      "Residual sum of squares: 0.15\n",
      "Variance score: 0.31\n"
     ]
    },
    {
     "data": {
      "image/png": "[encoded data removed]",
      "text/plain": [
       "<matplotlib.figure.Figure at 0x1784fa25ac8>"
      ]
     },
     "metadata": {},
     "output_type": "display_data"
    },
    {
     "name": "stdout",
     "output_type": "stream",
     "text": [
      "prediction pour 1ére classe 1.02\n",
      "prediction pour 2éme classe 0.78\n",
      "prediction pour 3éme classe 0.55\n"
     ]
    }
   ],
   "source": [
    "import matplotlib.pyplot as plt\n",
    "import numpy as np\n",
    "from sklearn import datasets, linear_model\n",
    "\n",
    "\n",
    "\n",
    "# Split the data into training/testing sets\n",
    "data_X_train = datap[datap['Sex']=='male']['Pclass'].to_frame()[:-20]\n",
    "data_X_test = datap[datap['Sex']=='male']['Pclass'].to_frame()[-20:]\n",
    "\n",
    "# Split the targets into training/testing sets\n",
    "data_y_train = datap[datap['Sex']=='male']['Survived'].to_frame()[:-20]\n",
    "data_y_test = datap[datap['Sex']=='male']['Survived'].to_frame()[-20:]\n",
    "\n",
    "# Create linear regression object\n",
    "regr = linear_model.LinearRegression()\n",
    "\n",
    "# Train the model using the training sets\n",
    "regr.fit(data_X_train, data_y_train)\n",
    "\n",
    "# The coefficients\n",
    "print('Coefficients: \\n', regr.coef_)\n",
    "# The mean square error\n",
    "print(\"Residual sum of squares: %.2f\"\n",
    "      % np.mean((regr.predict(data_X_test) - data_y_test) ** 2))\n",
    "# Explained variance score: 1 is perfect prediction\n",
    "print('Variance score: %.2f' % regr.score(data_X_test, data_y_test))\n",
    "\n",
    "# Plot outputs\n",
    "plt.title('Pclass v survivant (homme)')\n",
    "plt.scatter(data_X_test, data_y_test,  color='black')\n",
    "plt.plot(data_X_test, regr.predict(data_X_test), color='blue',\n",
    "         linewidth=3)\n",
    "plt.xlabel('Pclass (1,2,3)')\n",
    "plt.ylabel('survivant')\n",
    "plt.xticks(())\n",
    "plt.yticks(())\n",
    "\n",
    "plt.show()\n",
    "\n",
    "print(u'prediction pour 1ére classe {px:.2f}'.format(\n",
    "        px=regr.predict([[1]])[0][0]))\n",
    "print(u'prediction pour 2éme classe {px:.2f}'.format(\n",
    "        px=regr.predict([[2]])[0][0]))\n",
    "print(u'prediction pour 3éme classe {px:.2f}'.format(\n",
    "        px=regr.predict([[3]])[0][0]))\n",
    "\n",
    "# Split the data into training/testing sets\n",
    "data_X_train = datap[datap['Sex']=='female']['Pclass'].to_frame()[:-20]\n",
    "data_X_test = datap[datap['Sex']=='female']['Pclass'].to_frame()[-20:]\n",
    "\n",
    "# Split the targets into training/testing sets\n",
    "data_y_train = datap[datap['Sex']=='female']['Survived'].to_frame()[:-20]\n",
    "data_y_test = datap[datap['Sex']=='female']['Survived'].to_frame()[-20:]\n",
    "\n",
    "# Create linear regression object\n",
    "regr = linear_model.LinearRegression()\n",
    "\n",
    "# Train the model using the training sets\n",
    "regr.fit(data_X_train, data_y_train)\n",
    "\n",
    "# The coefficients\n",
    "print('Coefficients: \\n', regr.coef_)\n",
    "# The mean square error\n",
    "print(\"Residual sum of squares: %.2f\"\n",
    "      % np.mean((regr.predict(data_X_test) - data_y_test) ** 2))\n",
    "# Explained variance score: 1 is perfect prediction\n",
    "print('Variance score: %.2f' % regr.score(data_X_test, data_y_test))\n",
    "\n",
    "# Plot outputs\n",
    "plt.title('Pclass v survivant (homme)')\n",
    "plt.scatter(data_X_test, data_y_test,  color='black')\n",
    "plt.plot(data_X_test, regr.predict(data_X_test), color='blue',\n",
    "         linewidth=3)\n",
    "plt.xlabel('Pclass (1,2,3)')\n",
    "plt.ylabel('survivant')\n",
    "plt.xticks(())\n",
    "plt.yticks(())\n",
    "\n",
    "plt.show()\n",
    "\n",
    "print(u'prediction pour 1ére classe {px:.2f}'.format(\n",
    "        px=regr.predict([[1]])[0][0]))\n",
    "print(u'prediction pour 2éme classe {px:.2f}'.format(\n",
    "        px=regr.predict([[2]])[0][0]))\n",
    "print(u'prediction pour 3éme classe {px:.2f}'.format(\n",
    "        px=regr.predict([[3]])[0][0]))"
   ]
  },
  {
   "cell_type": "markdown",
   "metadata": {},
   "source": [
    "On peut observer que les femmes tirent le taux de survie vers le haut et que les hommes tirent le taux de survie vers le bas."
   ]
  },
  {
   "cell_type": "markdown",
   "metadata": {},
   "source": [
    "essaie d'arbre de decision"
   ]
  },
  {
   "cell_type": "code",
   "execution_count": 18,
   "metadata": {
    "collapsed": false
   },
   "outputs": [
    {
     "data": {
      "text/plain": [
       "array([1, 1, 0, 0, 0, 0, 0, 0, 1, 0, 0, 0, 0, 0, 0, 0, 1, 0, 1, 0], dtype=int64)"
      ]
     },
     "execution_count": 18,
     "metadata": {},
     "output_type": "execute_result"
    }
   ],
   "source": [
    "from sklearn.tree import DecisionTreeClassifier\n",
    "tree=DecisionTreeClassifier()\n",
    "\n",
    "# Split the data into training/testing sets\n",
    "data_X_train = datap['Pclass'].to_frame()[:-20]\n",
    "data_X_test = datap['Pclass'].to_frame()[-20:]\n",
    "\n",
    "# Split the targets into training/testing sets\n",
    "data_y_train = datap['Survived'].to_frame()[:-20]\n",
    "data_y_test = datap['Survived'].to_frame()[-20:]\n",
    "\n",
    "digit_tree=tree.fit(data_X_train,data_y_train)\n",
    "# Estimation de l’erreur de prévision\n",
    "digit_tree.score(data_X_test,data_y_test)\n",
    "\n",
    "print(digit_tree.predict(data_X_test))\n",
    "\n"
   ]
  },
  {
   "cell_type": "code",
   "execution_count": 32,
   "metadata": {
    "collapsed": false
   },
   "outputs": [
    {
     "ename": "AttributeError",
     "evalue": "module 'matplotlib.pyplot' has no attribute 'graph_from_dot_data'",
     "output_type": "error",
     "traceback": [
      "\u001b[0;31m---------------------------------------------------------------------------\u001b[0m",
      "\u001b[0;31mAttributeError\u001b[0m                            Traceback (most recent call last)",
      "\u001b[0;32m<ipython-input-32-9b33c87307d5>\u001b[0m in \u001b[0;36m<module>\u001b[0;34m()\u001b[0m\n\u001b[1;32m      5\u001b[0m \u001b[0mdot_data\u001b[0m \u001b[1;33m=\u001b[0m \u001b[0mStringIO\u001b[0m\u001b[1;33m(\u001b[0m\u001b[1;33m)\u001b[0m\u001b[1;33m\u001b[0m\u001b[0m\n\u001b[1;32m      6\u001b[0m \u001b[0mexport_graphviz\u001b[0m\u001b[1;33m(\u001b[0m\u001b[0mdigit_tree\u001b[0m\u001b[1;33m,\u001b[0m \u001b[0mout_file\u001b[0m\u001b[1;33m=\u001b[0m\u001b[0mdot_data\u001b[0m\u001b[1;33m)\u001b[0m\u001b[1;33m\u001b[0m\u001b[0m\n\u001b[0;32m----> 7\u001b[0;31m \u001b[0mgraph\u001b[0m\u001b[1;33m=\u001b[0m\u001b[0mplt\u001b[0m\u001b[1;33m.\u001b[0m\u001b[0mgraph_from_dot_data\u001b[0m\u001b[1;33m(\u001b[0m\u001b[0mdot_data\u001b[0m\u001b[1;33m.\u001b[0m\u001b[0mgetvalue\u001b[0m\u001b[1;33m(\u001b[0m\u001b[1;33m)\u001b[0m\u001b[1;33m)\u001b[0m\u001b[1;33m\u001b[0m\u001b[0m\n\u001b[0m\u001b[1;32m      8\u001b[0m \u001b[0mgraph\u001b[0m\u001b[1;33m.\u001b[0m\u001b[0mwrite_png\u001b[0m\u001b[1;33m(\u001b[0m\u001b[1;34m\"titan_tree.png\"\u001b[0m\u001b[1;33m)\u001b[0m\u001b[1;33m\u001b[0m\u001b[0m\n",
      "\u001b[0;31mAttributeError\u001b[0m: module 'matplotlib.pyplot' has no attribute 'graph_from_dot_data'"
     ]
    }
   ],
   "source": [
    "from sklearn.tree import export_graphviz\n",
    "from sklearn.externals.six import StringIO\n",
    "import pydot\n",
    "import matplotlib.pyplot as plt\n",
    "dot_data = StringIO()\n",
    "export_graphviz(digit_tree, out_file=dot_data)\n",
    "graph=pydot.graph_from_dot_data(dot_data.getvalue())\n",
    "graph.write_png(\"titan_tree.png\")"
   ]
  },
  {
   "cell_type": "markdown",
   "metadata": {},
   "source": [
    "test arbre aléatoire"
   ]
  },
  {
   "cell_type": "code",
   "execution_count": 31,
   "metadata": {
    "collapsed": false
   },
   "outputs": [
    {
     "name": "stderr",
     "output_type": "stream",
     "text": [
      "C:\\Users\\romain\\Anaconda3\\lib\\site-packages\\ipykernel\\__main__.py:19: DataConversionWarning: A column-vector y was passed when a 1d array was expected. Please change the shape of y to (n_samples,), for example using ravel().\n"
     ]
    },
    {
     "name": "stdout",
     "output_type": "stream",
     "text": [
      "0.323765786452\n",
      "col_0                      0  1\n",
      "row_0                          \n",
      "(S, u, r, v, i, v, e, d)  15  5\n"
     ]
    },
    {
     "data": {
      "image/png": "[encoded data removed]",
      "text/plain": [
       "<matplotlib.figure.Figure at 0x1784f98ff98>"
      ]
     },
     "metadata": {},
     "output_type": "display_data"
    },
    {
     "data": {
      "image/png": "[encoded data removed]",
      "text/plain": [
       "<matplotlib.figure.Figure at 0x1784f98fcf8>"
      ]
     },
     "metadata": {},
     "output_type": "display_data"
    }
   ],
   "source": [
    "import matplotlib.pyplot as plt\n",
    "from sklearn.ensemble import RandomForestClassifier\n",
    "\n",
    "forest = RandomForestClassifier(n_estimators=500,\n",
    "criterion='gini', max_depth=None,\n",
    "min_samples_split=2, min_samples_leaf=1,\n",
    "max_features='auto', max_leaf_nodes=None,\n",
    "bootstrap=True, oob_score=True)\n",
    "\n",
    "# Split the data into training/testing sets\n",
    "data_X_train = datap['Pclass'].to_frame()[:-20]\n",
    "data_X_test = datap['Pclass'].to_frame()[-20:]\n",
    "\n",
    "# Split the targets into training/testing sets\n",
    "data_y_train = datap['Survived'].to_frame()[:-20]\n",
    "data_y_test = datap['Survived'].to_frame()[-20:]\n",
    "\n",
    "# apprentissage\n",
    "forest = forest.fit(data_X_train,data_y_train)\n",
    "print(1-forest.oob_score_)\n",
    "# erreur de prévision sur le test\n",
    "1-forest.score(data_X_test,data_y_test)\n",
    "# prévision\n",
    "y_chap = forest.predict(data_X_test)\n",
    "\n",
    "# matrice de confusion\n",
    "table=pd.crosstab(data_y_test,y_chap)\n",
    "print(table)\n",
    "plt.matshow(table)\n",
    "plt.title(\"Matrice de Confusion\")\n",
    "plt.colorbar()\n",
    "plt.show()\n",
    "\n"
   ]
  },
  {
   "cell_type": "code",
   "execution_count": null,
   "metadata": {
    "collapsed": true
   },
   "outputs": [],
   "source": []
  }
 ],
 "metadata": {
  "anaconda-cloud": {},
  "kernelspec": {
   "display_name": "Python [conda root]",
   "language": "python",
   "name": "conda-root-py"
  },
  "language_info": {
   "codemirror_mode": {
    "name": "ipython",
    "version": 3
   },
   "file_extension": ".py",
   "mimetype": "text/x-python",
   "name": "python",
   "nbconvert_exporter": "python",
   "pygments_lexer": "ipython3",
   "version": "3.5.2"
  }
 },
 "nbformat": 4,
 "nbformat_minor": 1
}
